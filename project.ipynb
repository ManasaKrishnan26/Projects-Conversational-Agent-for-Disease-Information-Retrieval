{
 "cells": [
  {
   "cell_type": "code",
   "execution_count": 3,
   "metadata": {},
   "outputs": [],
   "source": [
    "import os\n",
    "import xml.etree.ElementTree as ET\n",
    "import json\n",
    "from Bio import Entrez\n",
    "import requests\n",
    "from selenium import webdriver\n",
    "from bs4 import BeautifulSoup  # For HTML parsing\n",
    "import time\n",
    "from tqdm import tqdm\n"
   ]
  },
  {
   "cell_type": "markdown",
   "metadata": {},
   "source": [
    "### GET DISEASES DATA FROM ORPHANET FILES"
   ]
  },
  {
   "cell_type": "markdown",
   "metadata": {},
   "source": [
    "The list of rare diseases are available here  -  https://www.orphadata.com/classifications/"
   ]
  },
  {
   "cell_type": "code",
   "execution_count": null,
   "metadata": {},
   "outputs": [],
   "source": [
    "def read_files_from_folder(folder_path):\n",
    "    files = os.listdir(folder_path)\n",
    "    return files\n",
    "\n",
    "def parse_orphanet_xml(file_path):\n",
    "    tree = ET.parse(file_path)\n",
    "    root = tree.getroot()\n",
    "\n",
    "    diseases = []\n",
    "    for disorder in root.findall('.//Disorder'):\n",
    "        name = disorder.find('.//Name[@lang=\"en\"]')\n",
    "        orpha_code = disorder.find('.//OrphaCode')\n",
    "        if name is not None and orpha_code is not None:\n",
    "            diseases.append({'name': name.text, 'orpha_code': orpha_code.text})\n",
    "    return diseases"
   ]
  },
  {
   "cell_type": "code",
   "execution_count": null,
   "metadata": {},
   "outputs": [],
   "source": [
    "diseases_dict = {}\n",
    "for file in read_files_from_folder('Rare_Diseases'):\n",
    "    if file.endswith('.xml'):\n",
    "        diseases = parse_orphanet_xml('Rare_Diseases/' + file)\n",
    "        file_name = file.split('.')[0]\n",
    "        diseases_dict[file_name] = diseases\n"
   ]
  },
  {
   "cell_type": "markdown",
   "metadata": {},
   "source": [
    "--------------------------End Orphanet data------------------------------"
   ]
  },
  {
   "cell_type": "markdown",
   "metadata": {},
   "source": [
    "### Begin Pubmed Data fetch"
   ]
  },
  {
   "cell_type": "code",
   "execution_count": null,
   "metadata": {},
   "outputs": [],
   "source": [
    "EMAIL = 'abc@gmail.com'"
   ]
  },
  {
   "cell_type": "code",
   "execution_count": null,
   "metadata": {},
   "outputs": [],
   "source": [
    "def search_pubmed(query, max_results=10):\n",
    "    Entrez.email = EMAIL  # Always provide your email\n",
    "    query_with_filter = query + \" AND free full text[sb]\"  # Adding the free full text filter\n",
    "    handle = Entrez.esearch(db='pubmed', \n",
    "                            sort='relevance', \n",
    "                            retmax=max_results,\n",
    "                            retmode='xml', \n",
    "                            term=query_with_filter)\n",
    "    results = Entrez.read(handle)\n",
    "\n",
    "    if results['IdList'] == []:\n",
    "        handle = Entrez.esearch(db='pubmed', \n",
    "                            sort='relevance', \n",
    "                            retmax=max_results,\n",
    "                            retmode='xml', \n",
    "                            term=query)\n",
    "        \n",
    "        results = Entrez.read(handle)\n",
    "    return results['IdList']\n",
    "\n",
    "\n",
    "def fetch_pubmed_details(id_list):\n",
    "    Entrez.email = EMAIL \n",
    "    if len(id_list) == 0:\n",
    "        return None\n",
    "    ids = ','.join(id_list)\n",
    "    handle = Entrez.efetch(db='pubmed', id=ids, retmode='xml')\n",
    "    papers = Entrez.read(handle)\n",
    "    return papers"
   ]
  },
  {
   "cell_type": "code",
   "execution_count": null,
   "metadata": {},
   "outputs": [],
   "source": [
    "disease_articles = {}"
   ]
  },
  {
   "cell_type": "code",
   "execution_count": null,
   "metadata": {},
   "outputs": [],
   "source": [
    "all_diseases = set()\n",
    "for disease_name, diseases in diseases_dict.items():\n",
    "    for disease in diseases:\n",
    "        all_diseases.add(disease['name'])"
   ]
  },
  {
   "cell_type": "code",
   "execution_count": null,
   "metadata": {},
   "outputs": [],
   "source": [
    "for disease in all_diseases:\n",
    "    if disease in disease_articles and disease_articles[disease] != []:\n",
    "        continue    \n",
    "    query = f'{disease}'\n",
    "    disease_articles[disease] = search_pubmed(query, 50)"
   ]
  },
  {
   "cell_type": "code",
   "execution_count": null,
   "metadata": {},
   "outputs": [],
   "source": [
    "# logged on 8th Dec - 12:09 AM - json dumped at 12:10 AM\n",
    "with open('disease_articles.json', 'w') as f:\n",
    "    json.dump(disease_articles, f)\n"
   ]
  },
  {
   "cell_type": "code",
   "execution_count": null,
   "metadata": {},
   "outputs": [],
   "source": [
    "# load the json file for disease articles if present else create a new one\n",
    "with open('disease_articles.json', 'r') as f:\n",
    "    disease_articles = json.load(f)"
   ]
  },
  {
   "cell_type": "code",
   "execution_count": null,
   "metadata": {},
   "outputs": [],
   "source": [
    "papers_list = dict()"
   ]
  },
  {
   "cell_type": "code",
   "execution_count": null,
   "metadata": {},
   "outputs": [],
   "source": [
    "\n",
    "for disease, ids in tqdm(disease_articles.items()):\n",
    "    if disease in papers_list and papers_list[disease] != []:\n",
    "        continue\n",
    "    papers_list[disease] = fetch_pubmed_details(ids)\n",
    "    time.sleep(1)\n",
    "\n"
   ]
  },
  {
   "cell_type": "code",
   "execution_count": null,
   "metadata": {},
   "outputs": [],
   "source": [
    "disease_articles_new = {key: value for key, value in disease_articles.items() if value}\n",
    "len(disease_articles_new)"
   ]
  },
  {
   "cell_type": "code",
   "execution_count": null,
   "metadata": {},
   "outputs": [],
   "source": [
    "combined_data = list()\n",
    "\n",
    "def get_article_details(diseases_dict:dict, disease_articles:dict,combined_data:list):\n",
    "    for category, diseases in diseases_dict.items():\n",
    "        print(f\"Processing {category}...\")\n",
    "        if os.path.exists(f\"combined_data/{category}.json\"):\n",
    "            continue\n",
    "\n",
    "        for disease in tqdm(diseases):\n",
    "            disease_data = {\n",
    "                'name': disease['name'],\n",
    "                'orpha_code': disease['orpha_code'],\n",
    "                'articles': []\n",
    "            }\n",
    "            \n",
    "            if disease['name'] in disease_articles:\n",
    "                ids = disease_articles_new[disease['name']][:5]\n",
    "                papers = fetch_pubmed_details(ids)\n",
    "                time.sleep(0.5)\n",
    "                if papers:\n",
    "                    for paper in papers['PubmedArticle']:\n",
    "                        pmid = paper['MedlineCitation']['PMID'].title()\n",
    "                        # Extract necessary details from each paper\n",
    "                        article_data = paper['MedlineCitation']['Article']\n",
    "                        if article_data['ELocationID'] and article_data['ELocationID'][0].attributes['EIdType'] == 'doi':\n",
    "                            doi = article_data['ELocationID'][0].title()\n",
    "\n",
    "                        article_url = f\"https://doi.org/{doi}\" if doi else ''\n",
    "                        title = article_data['ArticleTitle']\n",
    "                        abstract = paper['MedlineCitation']['Article']['Abstract']['AbstractText'][0] if 'Abstract' in paper['MedlineCitation']['Article'] else ''\n",
    "                        disease_data['articles'].append({'PMID':pmid, 'title': title, 'abstract': abstract, 'article_url': article_url})\n",
    "\n",
    "            combined_data.append(disease_data)\n",
    "\n",
    "\n",
    "        # Create the \"combined_data\" folder if it doesn't exist\n",
    "        if not os.path.exists(\"combined_data\"):\n",
    "            os.makedirs(\"combined_data\")\n",
    "\n",
    "        # Dump the combined_data dictionary to a JSON file in the \"combined_data\" folder\n",
    "        with open(f\"combined_data/{category}.json\", \"w\") as f:\n",
    "            json.dump(combined_data, f)\n",
    "\n",
    "        combined_data.clear()\n",
    "\n"
   ]
  },
  {
   "cell_type": "code",
   "execution_count": null,
   "metadata": {},
   "outputs": [],
   "source": [
    "get_article_details(diseases_dict, disease_articles_new,combined_data)"
   ]
  },
  {
   "cell_type": "code",
   "execution_count": null,
   "metadata": {},
   "outputs": [],
   "source": [
    "def get_full_text_from_doi(doi_url):\n",
    "    # Use Selenium to handle JavaScript-enabled requests\n",
    "    options = webdriver.ChromeOptions()\n",
    "    options.add_argument('window-size=1920x1080')  # Set the window size\n",
    "    options.add_argument('user-agent=Mozilla/5.0 (Windows NT 10.0; Win64; x64) AppleWebKit/537.36 (KHTML, like Gecko) Chrome/90.0.4430.212 Safari/537.36')\n",
    "    options.add_argument('--headless')  # Run Chrome in headless mode\n",
    "    with webdriver.Chrome(options=options) as driver:\n",
    "        driver.get(doi_url)\n",
    "        time.sleep(2)\n",
    "        html = driver.page_source\n",
    "\n",
    "    # Parse the HTML using BeautifulSoup\n",
    "    soup = BeautifulSoup(html, 'html.parser')\n",
    "    article_tag = soup.find('article')\n",
    "    if article_tag:\n",
    "        article_text = article_tag.get_text()\n",
    "    else:\n",
    "        article_text = soup.get_text()\n",
    "\n",
    "    return article_text\n",
    "\n"
   ]
  },
  {
   "cell_type": "code",
   "execution_count": 2,
   "metadata": {},
   "outputs": [],
   "source": [
    "from bs4 import BeautifulSoup\n",
    "import re\n",
    "\n",
    "def clean_html(html_content):\n",
    "    # Parse the HTML content using BeautifulSoup\n",
    "    soup = BeautifulSoup(html_content, 'html.parser')\n",
    "    article_tag = soup.find('article')\n",
    " \n",
    "    # Remove script and style elements\n",
    "    for script_or_style in soup(['script', 'style']):\n",
    "        script_or_style.extract()\n",
    "\n",
    "    # Get text\n",
    "    text = ''\n",
    "    if article_tag:\n",
    "        text = article_tag.get_text()\n",
    "    else:\n",
    "        text = soup.get_text()\n",
    "\n",
    "    # Break into lines and remove leading and trailing space on each\n",
    "    lines = (line.strip() for line in text.splitlines())\n",
    "\n",
    "    # Break multi-headlines into a line each\n",
    "    chunks = (phrase.strip() for line in lines for phrase in line.split(\"  \"))\n",
    "\n",
    "    # Drop blank lines and remove non-ascii characters\n",
    "    text = '\\n'.join(chunk for chunk in chunks if chunk)\n",
    "    text = re.sub(r'[^\\x00-\\x7F]+', ' ', text)\n",
    "\n",
    "    return text\n"
   ]
  },
  {
   "cell_type": "code",
   "execution_count": 3,
   "metadata": {},
   "outputs": [],
   "source": [
    "options = webdriver.ChromeOptions()\n",
    "options.add_argument('window-size=1920x1080')  # Set the window size\n",
    "options.add_argument('user-agent=Mozilla/5.0 (Windows NT 10.0; Win64; x64) AppleWebKit/537.36 (KHTML, like Gecko) Chrome/90.0.4430.212 Safari/537.36')\n",
    "options.add_argument('--headless')  # Run Chrome in headless mode"
   ]
  },
  {
   "cell_type": "code",
   "execution_count": null,
   "metadata": {},
   "outputs": [],
   "source": [
    "combined_data_folder = 'combined_data'\n",
    "for file_name in (os.listdir(combined_data_folder)):\n",
    "    print(f\"Processing {file_name}...\")\n",
    "    if os.path.exists(f\"final_data/{file_name}\"):\n",
    "        continue\n",
    "    file_path = os.path.join(combined_data_folder, file_name)\n",
    "    with open(file_path, 'r') as f:\n",
    "        final_data = json.load(f)\n",
    "        # Process the data here\n",
    "        with webdriver.Chrome(options=options) as driver:\n",
    "            for data in tqdm(final_data[:250]):\n",
    "                for article in data['articles']:\n",
    "                    if 'full_text' in article:\n",
    "                        continue\n",
    "                    if article['article_url']:\n",
    "                        driver.get(article['article_url'])\n",
    "                        time.sleep(4)\n",
    "                        html = driver.page_source\n",
    "                        # Parse the HTML using BeautifulSoup\n",
    "                        article_text = clean_html(html)\n",
    "                        article['full_text'] = article_text        # Add the loaded file to the list\n",
    "\n",
    "         \n",
    "        # Create the \"final_data\" folder if it doesn't exist\n",
    "        if not os.path.exists(\"final_data\"):\n",
    "            os.makedirs(\"final_data\")\n",
    "\n",
    "        # Dump the combined_data dictionary to a JSON file in the \"final_data\" folder\n",
    "        with open(f\"final_data/{file_name}\", \"w\") as f:\n",
    "            json.dump(final_data, f)  \n",
    "\n",
    "        final_data = []\n",
    "    "
   ]
  },
  {
   "cell_type": "markdown",
   "metadata": {},
   "source": [
    "## Data processing and cleaning "
   ]
  },
  {
   "cell_type": "code",
   "execution_count": 1,
   "metadata": {},
   "outputs": [
    {
     "name": "stderr",
     "output_type": "stream",
     "text": [
      "[nltk_data] Downloading package stopwords to\n",
      "[nltk_data]     /Users/chintanaddoni/nltk_data...\n",
      "[nltk_data]   Package stopwords is already up-to-date!\n"
     ]
    }
   ],
   "source": [
    "import pandas as pd\n",
    "import nltk\n",
    "nltk.download('stopwords')\n",
    "import re\n",
    "from nltk.tokenize import word_tokenize, sent_tokenize\n",
    "from nltk.corpus import stopwords\n",
    "from nltk.stem import PorterStemmer"
   ]
  },
  {
   "cell_type": "code",
   "execution_count": 13,
   "metadata": {},
   "outputs": [],
   "source": [
    "\n",
    "final_data_folder = 'final_data'\n",
    "combined_data_df = []\n",
    "df = pd.DataFrame(columns=['name', 'orpha_code', 'PMID', 'title', 'abstract', 'article_url', 'full_text'])\n",
    "\n",
    "for file_name in os.listdir(final_data_folder):\n",
    "    file_path = os.path.join(final_data_folder, file_name)\n",
    "    with open(file_path, 'r') as f:\n",
    "        data = json.load(f)\n",
    "        combined_data_df = []\n",
    "        for disease_data in data:\n",
    "            name = disease_data['name']\n",
    "            orpha_code = disease_data['orpha_code']\n",
    "            articles = disease_data['articles']\n",
    "            for article in articles:\n",
    "                if 'full_text' in article: \n",
    "                    if len(article['full_text']) < 1000:\n",
    "                        article['full_text'] = article['abstract']\n",
    "                    combined_data_df.append([name, orpha_code, article['PMID'], article['title'], article['abstract'], article['article_url'], article['full_text']])\n",
    "                else:\n",
    "                    article['full_text'] = article['abstract']\n",
    "                    combined_data_df.append([name, orpha_code, article['PMID'], article['title'], article['abstract'], article['article_url'], article['full_text']])\n",
    "\n",
    "    # Append combined_data_df to df using pd.concat()\n",
    "    df = pd.concat([df, pd.DataFrame(combined_data_df, columns=df.columns)], ignore_index=True)\n",
    "    df.drop_duplicates(subset = df.columns.difference(['full_text', 'article_url']),inplace=True)\n",
    "\n",
    "\n"
   ]
  },
  {
   "cell_type": "code",
   "execution_count": 16,
   "metadata": {},
   "outputs": [
    {
     "data": {
      "text/plain": [
       "(27507, 7)"
      ]
     },
     "execution_count": 16,
     "metadata": {},
     "output_type": "execute_result"
    }
   ],
   "source": [
    "df.shape"
   ]
  },
  {
   "cell_type": "code",
   "execution_count": 17,
   "metadata": {},
   "outputs": [
    {
     "data": {
      "text/html": [
       "<div>\n",
       "<style scoped>\n",
       "    .dataframe tbody tr th:only-of-type {\n",
       "        vertical-align: middle;\n",
       "    }\n",
       "\n",
       "    .dataframe tbody tr th {\n",
       "        vertical-align: top;\n",
       "    }\n",
       "\n",
       "    .dataframe thead th {\n",
       "        text-align: right;\n",
       "    }\n",
       "</style>\n",
       "<table border=\"1\" class=\"dataframe\">\n",
       "  <thead>\n",
       "    <tr style=\"text-align: right;\">\n",
       "      <th></th>\n",
       "      <th>name</th>\n",
       "      <th>orpha_code</th>\n",
       "      <th>PMID</th>\n",
       "      <th>title</th>\n",
       "      <th>abstract</th>\n",
       "      <th>article_url</th>\n",
       "      <th>full_text</th>\n",
       "    </tr>\n",
       "  </thead>\n",
       "  <tbody>\n",
       "    <tr>\n",
       "      <th>0</th>\n",
       "      <td>Rare teratologic disease</td>\n",
       "      <td>52662</td>\n",
       "      <td>33745447</td>\n",
       "      <td>Diagnostic precision and identification of rar...</td>\n",
       "      <td>Diagnostic precision and the identification of...</td>\n",
       "      <td>https://doi.org/10.1002/Jimd.12306</td>\n",
       "      <td>Journal of Inherited Metabolic DiseaseVolume 4...</td>\n",
       "    </tr>\n",
       "    <tr>\n",
       "      <th>1</th>\n",
       "      <td>Rare teratologic disease</td>\n",
       "      <td>52662</td>\n",
       "      <td>36401554</td>\n",
       "      <td>Prevalence and mortality among children with a...</td>\n",
       "      <td>We examined the total prevalence, trends in pr...</td>\n",
       "      <td>https://doi.org/10.1002/Bdr2.2129</td>\n",
       "      <td>We examined the total prevalence, trends in pr...</td>\n",
       "    </tr>\n",
       "    <tr>\n",
       "      <th>2</th>\n",
       "      <td>Rare teratologic disease</td>\n",
       "      <td>52662</td>\n",
       "      <td>27126916</td>\n",
       "      <td>Frederik Ruysch (1638-1731): Historical perspe...</td>\n",
       "      <td>The Peter the Great Museum of Anthropology and...</td>\n",
       "      <td>https://doi.org/10.1002/Ajmg.A.37663</td>\n",
       "      <td>The Peter the Great Museum of Anthropology and...</td>\n",
       "    </tr>\n",
       "    <tr>\n",
       "      <th>3</th>\n",
       "      <td>Rare teratologic disease</td>\n",
       "      <td>52662</td>\n",
       "      <td>35644130</td>\n",
       "      <td>A Multicountry Analysis of Prevalence and Mort...</td>\n",
       "      <td>Bladder exstrophy (BE) is a rare but severe b...</td>\n",
       "      <td>https://doi.org/10.1055/S-0042-1748318</td>\n",
       "      <td>Subscribe to RSS\\nPlease copy the URL and add ...</td>\n",
       "    </tr>\n",
       "    <tr>\n",
       "      <th>4</th>\n",
       "      <td>Rare teratologic disease</td>\n",
       "      <td>52662</td>\n",
       "      <td>33253899</td>\n",
       "      <td>Prevalence and mortality in children with cong...</td>\n",
       "      <td>This study determined the prevalence, mortalit...</td>\n",
       "      <td>https://doi.org/10.1016/J.Annepidem.2020.11.007</td>\n",
       "      <td>Annals of EpidemiologyVolume 56, April 2021, P...</td>\n",
       "    </tr>\n",
       "  </tbody>\n",
       "</table>\n",
       "</div>"
      ],
      "text/plain": [
       "                       name orpha_code      PMID  \\\n",
       "0  Rare teratologic disease      52662  33745447   \n",
       "1  Rare teratologic disease      52662  36401554   \n",
       "2  Rare teratologic disease      52662  27126916   \n",
       "3  Rare teratologic disease      52662  35644130   \n",
       "4  Rare teratologic disease      52662  33253899   \n",
       "\n",
       "                                               title  \\\n",
       "0  Diagnostic precision and identification of rar...   \n",
       "1  Prevalence and mortality among children with a...   \n",
       "2  Frederik Ruysch (1638-1731): Historical perspe...   \n",
       "3  A Multicountry Analysis of Prevalence and Mort...   \n",
       "4  Prevalence and mortality in children with cong...   \n",
       "\n",
       "                                            abstract  \\\n",
       "0  Diagnostic precision and the identification of...   \n",
       "1  We examined the total prevalence, trends in pr...   \n",
       "2  The Peter the Great Museum of Anthropology and...   \n",
       "3   Bladder exstrophy (BE) is a rare but severe b...   \n",
       "4  This study determined the prevalence, mortalit...   \n",
       "\n",
       "                                       article_url  \\\n",
       "0               https://doi.org/10.1002/Jimd.12306   \n",
       "1                https://doi.org/10.1002/Bdr2.2129   \n",
       "2             https://doi.org/10.1002/Ajmg.A.37663   \n",
       "3           https://doi.org/10.1055/S-0042-1748318   \n",
       "4  https://doi.org/10.1016/J.Annepidem.2020.11.007   \n",
       "\n",
       "                                           full_text  \n",
       "0  Journal of Inherited Metabolic DiseaseVolume 4...  \n",
       "1  We examined the total prevalence, trends in pr...  \n",
       "2  The Peter the Great Museum of Anthropology and...  \n",
       "3  Subscribe to RSS\\nPlease copy the URL and add ...  \n",
       "4  Annals of EpidemiologyVolume 56, April 2021, P...  "
      ]
     },
     "execution_count": 17,
     "metadata": {},
     "output_type": "execute_result"
    }
   ],
   "source": [
    "df.head()"
   ]
  },
  {
   "cell_type": "code",
   "execution_count": 18,
   "metadata": {},
   "outputs": [],
   "source": [
    "\n",
    "# Set of English stopwords\n",
    "stop_words = set(stopwords.words('english'))\n",
    "\n",
    "def remove_citations(text):\n",
    "    # Remove citations references (e.g., [1], [1,2], [1-3])\n",
    "    text = re.sub(r'\\[\\d+(,\\s?\\d+)*(\\s?-\\s?\\d+)?\\]', '', text)\n",
    "    # Remove URLs\n",
    "    text = re.sub(r'http\\S+|www\\S+', '', text)\n",
    "    return text\n",
    " \n",
    "\n",
    "def remove_references_section(text):\n",
    "    # Naive approach to remove references section\n",
    "    text = re.sub(r'\\b(references|bibliography)\\b.*', '', text, flags=re.IGNORECASE | re.DOTALL)\n",
    "    return text\n",
    "\n",
    "def tokenize_and_clean(text):\n",
    "    # Tokenize into words\n",
    "    words = word_tokenize(text)\n",
    "\n",
    "    # Remove stopwords and non-alphabetic words\n",
    "    words = [word.lower() for word in words if word.isalpha() and word.lower() not in stop_words]\n",
    "\n",
    "    # # add stemming\n",
    "    # stemmer = PorterStemmer()\n",
    "    # words = [stemmer.stem(word) for word in words]\n",
    "\n",
    "    return words\n",
    "\n",
    "def preprocess_text(text):\n",
    "    text = remove_citations(text)\n",
    "    text = remove_references_section(text)\n",
    "    words = tokenize_and_clean(text)\n",
    "    return ' '.join(words)\n"
   ]
  },
  {
   "cell_type": "code",
   "execution_count": 19,
   "metadata": {},
   "outputs": [],
   "source": [
    "df['cleaned_text'] = df['full_text'].apply(preprocess_text)"
   ]
  },
  {
   "cell_type": "code",
   "execution_count": 20,
   "metadata": {},
   "outputs": [],
   "source": [
    "df.to_json('final_data_cleaned.json', orient='records')"
   ]
  },
  {
   "cell_type": "markdown",
   "metadata": {},
   "source": [
    "## Run from here to test the model with the processed data using above code. (Do run the above cells to import packages)"
   ]
  },
  {
   "cell_type": "code",
   "execution_count": 50,
   "metadata": {},
   "outputs": [],
   "source": [
    "df = pd.read_json('final_data_cleaned.json')"
   ]
  },
  {
   "cell_type": "code",
   "execution_count": 21,
   "metadata": {},
   "outputs": [
    {
     "data": {
      "text/html": [
       "<div>\n",
       "<style scoped>\n",
       "    .dataframe tbody tr th:only-of-type {\n",
       "        vertical-align: middle;\n",
       "    }\n",
       "\n",
       "    .dataframe tbody tr th {\n",
       "        vertical-align: top;\n",
       "    }\n",
       "\n",
       "    .dataframe thead th {\n",
       "        text-align: right;\n",
       "    }\n",
       "</style>\n",
       "<table border=\"1\" class=\"dataframe\">\n",
       "  <thead>\n",
       "    <tr style=\"text-align: right;\">\n",
       "      <th></th>\n",
       "      <th>name</th>\n",
       "      <th>orpha_code</th>\n",
       "      <th>PMID</th>\n",
       "      <th>title</th>\n",
       "      <th>abstract</th>\n",
       "      <th>article_url</th>\n",
       "      <th>full_text</th>\n",
       "      <th>cleaned_text</th>\n",
       "    </tr>\n",
       "  </thead>\n",
       "  <tbody>\n",
       "    <tr>\n",
       "      <th>0</th>\n",
       "      <td>Rare teratologic disease</td>\n",
       "      <td>52662</td>\n",
       "      <td>33745447</td>\n",
       "      <td>Diagnostic precision and identification of rar...</td>\n",
       "      <td>Diagnostic precision and the identification of...</td>\n",
       "      <td>https://doi.org/10.1002/Jimd.12306</td>\n",
       "      <td>Journal of Inherited Metabolic DiseaseVolume 4...</td>\n",
       "      <td>journal inherited metabolic diseasevolume issu...</td>\n",
       "    </tr>\n",
       "    <tr>\n",
       "      <th>1</th>\n",
       "      <td>Rare teratologic disease</td>\n",
       "      <td>52662</td>\n",
       "      <td>36401554</td>\n",
       "      <td>Prevalence and mortality among children with a...</td>\n",
       "      <td>We examined the total prevalence, trends in pr...</td>\n",
       "      <td>https://doi.org/10.1002/Bdr2.2129</td>\n",
       "      <td>We examined the total prevalence, trends in pr...</td>\n",
       "      <td>examined total prevalence trends prevalence mo...</td>\n",
       "    </tr>\n",
       "    <tr>\n",
       "      <th>2</th>\n",
       "      <td>Rare teratologic disease</td>\n",
       "      <td>52662</td>\n",
       "      <td>27126916</td>\n",
       "      <td>Frederik Ruysch (1638-1731): Historical perspe...</td>\n",
       "      <td>The Peter the Great Museum of Anthropology and...</td>\n",
       "      <td>https://doi.org/10.1002/Ajmg.A.37663</td>\n",
       "      <td>The Peter the Great Museum of Anthropology and...</td>\n",
       "      <td>peter great museum anthropology ethnography ku...</td>\n",
       "    </tr>\n",
       "    <tr>\n",
       "      <th>3</th>\n",
       "      <td>Rare teratologic disease</td>\n",
       "      <td>52662</td>\n",
       "      <td>35644130</td>\n",
       "      <td>A Multicountry Analysis of Prevalence and Mort...</td>\n",
       "      <td>Bladder exstrophy (BE) is a rare but severe b...</td>\n",
       "      <td>https://doi.org/10.1055/S-0042-1748318</td>\n",
       "      <td>Subscribe to RSS\\nPlease copy the URL and add ...</td>\n",
       "      <td>subscribe rss please copy url add rss feed rea...</td>\n",
       "    </tr>\n",
       "    <tr>\n",
       "      <th>4</th>\n",
       "      <td>Rare teratologic disease</td>\n",
       "      <td>52662</td>\n",
       "      <td>33253899</td>\n",
       "      <td>Prevalence and mortality in children with cong...</td>\n",
       "      <td>This study determined the prevalence, mortalit...</td>\n",
       "      <td>https://doi.org/10.1016/J.Annepidem.2020.11.007</td>\n",
       "      <td>Annals of EpidemiologyVolume 56, April 2021, P...</td>\n",
       "      <td>annals epidemiologyvolume april pages articlep...</td>\n",
       "    </tr>\n",
       "  </tbody>\n",
       "</table>\n",
       "</div>"
      ],
      "text/plain": [
       "                       name orpha_code      PMID  \\\n",
       "0  Rare teratologic disease      52662  33745447   \n",
       "1  Rare teratologic disease      52662  36401554   \n",
       "2  Rare teratologic disease      52662  27126916   \n",
       "3  Rare teratologic disease      52662  35644130   \n",
       "4  Rare teratologic disease      52662  33253899   \n",
       "\n",
       "                                               title  \\\n",
       "0  Diagnostic precision and identification of rar...   \n",
       "1  Prevalence and mortality among children with a...   \n",
       "2  Frederik Ruysch (1638-1731): Historical perspe...   \n",
       "3  A Multicountry Analysis of Prevalence and Mort...   \n",
       "4  Prevalence and mortality in children with cong...   \n",
       "\n",
       "                                            abstract  \\\n",
       "0  Diagnostic precision and the identification of...   \n",
       "1  We examined the total prevalence, trends in pr...   \n",
       "2  The Peter the Great Museum of Anthropology and...   \n",
       "3   Bladder exstrophy (BE) is a rare but severe b...   \n",
       "4  This study determined the prevalence, mortalit...   \n",
       "\n",
       "                                       article_url  \\\n",
       "0               https://doi.org/10.1002/Jimd.12306   \n",
       "1                https://doi.org/10.1002/Bdr2.2129   \n",
       "2             https://doi.org/10.1002/Ajmg.A.37663   \n",
       "3           https://doi.org/10.1055/S-0042-1748318   \n",
       "4  https://doi.org/10.1016/J.Annepidem.2020.11.007   \n",
       "\n",
       "                                           full_text  \\\n",
       "0  Journal of Inherited Metabolic DiseaseVolume 4...   \n",
       "1  We examined the total prevalence, trends in pr...   \n",
       "2  The Peter the Great Museum of Anthropology and...   \n",
       "3  Subscribe to RSS\\nPlease copy the URL and add ...   \n",
       "4  Annals of EpidemiologyVolume 56, April 2021, P...   \n",
       "\n",
       "                                        cleaned_text  \n",
       "0  journal inherited metabolic diseasevolume issu...  \n",
       "1  examined total prevalence trends prevalence mo...  \n",
       "2  peter great museum anthropology ethnography ku...  \n",
       "3  subscribe rss please copy url add rss feed rea...  \n",
       "4  annals epidemiologyvolume april pages articlep...  "
      ]
     },
     "execution_count": 21,
     "metadata": {},
     "output_type": "execute_result"
    }
   ],
   "source": [
    "df.head()"
   ]
  },
  {
   "cell_type": "code",
   "execution_count": 23,
   "metadata": {},
   "outputs": [],
   "source": [
    "from sklearn.feature_extraction.text import TfidfVectorizer\n",
    "from sklearn.metrics.pairwise import cosine_similarity\n",
    "import numpy as np\n",
    "from sumy.parsers.plaintext import PlaintextParser\n",
    "from sumy.nlp.tokenizers import Tokenizer\n",
    "from sumy.summarizers.lex_rank import LexRankSummarizer"
   ]
  },
  {
   "cell_type": "code",
   "execution_count": 25,
   "metadata": {},
   "outputs": [],
   "source": [
    "\n",
    "\n",
    "# Assuming 'preprocessed_texts' is a list of your preprocessed documents\n",
    "vectorizer = TfidfVectorizer()\n",
    "preprocessed_texts = df['cleaned_text'].values\n",
    "tfidf_matrix = vectorizer.fit_transform(preprocessed_texts)\n",
    "\n",
    "def find_unique_relevant_documents(query, tfidf_matrix, top_n=5):\n",
    "    query_vector = vectorizer.transform([query])\n",
    "    cosine_similarities = cosine_similarity(query_vector, tfidf_matrix).flatten()\n",
    "    \n",
    "    # Use argsort for indices and then unique to filter out duplicates\n",
    "    unique_indices = np.unique(cosine_similarities.argsort()[::-1], return_index=True)[1]\n",
    "    \n",
    "    # Sort unique indices based on original similarity scores\n",
    "    sorted_unique_indices = unique_indices[np.argsort(-cosine_similarities[unique_indices])]\n",
    "\n",
    "    # Select top_n indices\n",
    "    relevant_indices = sorted_unique_indices[:top_n]\n",
    "\n",
    "    return relevant_indices, cosine_similarities[relevant_indices]\n",
    "\n",
    "\n",
    "def summarize(text, language=\"english\", sentences_count = 6):\n",
    "    parser = PlaintextParser.from_string(text, Tokenizer(language))\n",
    "    summarizer = LexRankSummarizer()\n",
    "    summary = summarizer(parser.document, sentences_count)\n",
    "    return ' '.join([str(sentence) for sentence in summary])\n"
   ]
  },
  {
   "cell_type": "code",
   "execution_count": 73,
   "metadata": {},
   "outputs": [],
   "source": [
    "def search_documents(query, df = df, tfidf_matrix = tfidf_matrix, top_n=5, summary_sentences=5):\n",
    "    relevant_indices, relevance_scores = find_unique_relevant_documents(query, tfidf_matrix, top_n)\n",
    "    relevant_docs = df.iloc[relevant_indices]\n",
    "    relevant_docs['relevance_score'] = relevance_scores\n",
    "    \n",
    "    # Keep only the rows with unique PMIDs\n",
    "    relevant_docs = relevant_docs.drop_duplicates(subset='PMID', ignore_index=True)\n",
    "    \n",
    "    # Combine all the full_text\n",
    "    combined_text = ' '.join(relevant_docs['full_text'].tolist())\n",
    "    \n",
    "    # Generate summary of the combined text\n",
    "    # summary = summarize(combined_text, sentences_count=summary_sentences)\n",
    "    summary = summarize(combined_text)\n",
    "    \n",
    "    return relevant_docs, summary\n"
   ]
  },
  {
   "cell_type": "code",
   "execution_count": 74,
   "metadata": {},
   "outputs": [],
   "source": [
    "from transformers import AutoTokenizer, AutoModelWithLMHead\n",
    "\n",
    "def summarize(text, max_length=130):\n",
    "    \"\"\"\n",
    "    Summarizes the given text to about 5 sentences.\n",
    "\n",
    "    Args:\n",
    "    text (str): The text to be summarized.\n",
    "    max_length (int): The maximum length of the summary (in tokens).\n",
    "\n",
    "    Returns:\n",
    "    str: The summarized text.\n",
    "    \"\"\"\n",
    "    # Load model and tokenizer for 'facebook/bart-large-cnn'\n",
    "    tokenizer = AutoTokenizer.from_pretrained('t5-base')\n",
    "    model = AutoModelWithLMHead.from_pretrained('t5-base', return_dict=True)\n",
    "\n",
    "    # Tokenize and encode the text\n",
    "    inputs = tokenizer.encode(\"summarize: \" + text, return_tensors=\"pt\", max_length=1024, truncation=True)\n",
    "\n",
    "    # Generate summary\n",
    "    summary_ids = model.generate(inputs, max_length=max_length, min_length=100, length_penalty=2.0, num_beams=4, early_stopping=True)\n",
    "    summary = tokenizer.decode(summary_ids[0], skip_special_tokens=True)\n",
    "\n",
    "    return summary"
   ]
  },
  {
   "cell_type": "code",
   "execution_count": 35,
   "metadata": {},
   "outputs": [],
   "source": [
    "import warnings\n",
    "# Ignore warnings\n",
    "warnings.filterwarnings(\"ignore\")"
   ]
  },
  {
   "cell_type": "code",
   "execution_count": 97,
   "metadata": {},
   "outputs": [
    {
     "name": "stdout",
     "output_type": "stream",
     "text": [
      "Query: Diagnostic criteria for rare hepatic diseases\n",
      "Summary:\n"
     ]
    },
    {
     "data": {
      "text/plain": [
       "'hepatic processes are dysregulated in type 1 and type 2 diabetes mellitus. this imbalance contributes to hyperglycaemia in the fasted and postprandial states. in this review, we discuss the in vivo regulation of these hepatic glucose fluxes. we also highlight the importance of indirect (extrahepatic) control of hepatic gluconeogenesis and direct (hepatic) control of hepatic glycogen metabolism.'"
      ]
     },
     "metadata": {},
     "output_type": "display_data"
    },
    {
     "name": "stdout",
     "output_type": "stream",
     "text": [
      "Relevant Documents:\n"
     ]
    },
    {
     "data": {
      "text/html": [
       "<div>\n",
       "<style scoped>\n",
       "    .dataframe tbody tr th:only-of-type {\n",
       "        vertical-align: middle;\n",
       "    }\n",
       "\n",
       "    .dataframe tbody tr th {\n",
       "        vertical-align: top;\n",
       "    }\n",
       "\n",
       "    .dataframe thead th {\n",
       "        text-align: right;\n",
       "    }\n",
       "</style>\n",
       "<table border=\"1\" class=\"dataframe\">\n",
       "  <thead>\n",
       "    <tr style=\"text-align: right;\">\n",
       "      <th></th>\n",
       "      <th>PMID</th>\n",
       "      <th>title</th>\n",
       "      <th>article_url</th>\n",
       "      <th>relevance_score</th>\n",
       "    </tr>\n",
       "  </thead>\n",
       "  <tbody>\n",
       "    <tr>\n",
       "      <th>0</th>\n",
       "      <td>28731034</td>\n",
       "      <td>Regulation of hepatic glucose metabolism in he...</td>\n",
       "      <td>https://doi.org/10.1038/Nrendo.2017.80</td>\n",
       "      <td>0.321340</td>\n",
       "    </tr>\n",
       "    <tr>\n",
       "      <th>1</th>\n",
       "      <td>31148902</td>\n",
       "      <td>Autoimmune hepatitis and IgG4-related disease.</td>\n",
       "      <td>https://doi.org/10.3748/Wjg.V25.I19.2308</td>\n",
       "      <td>0.307815</td>\n",
       "    </tr>\n",
       "    <tr>\n",
       "      <th>2</th>\n",
       "      <td>36031652</td>\n",
       "      <td>Infantile hepatic hemangioma and hepatic mesen...</td>\n",
       "      <td>https://doi.org/10.1002/Ajmg.A.62767</td>\n",
       "      <td>0.281110</td>\n",
       "    </tr>\n",
       "    <tr>\n",
       "      <th>3</th>\n",
       "      <td>34928431</td>\n",
       "      <td>Challenges in the diagnosis of neurofibromatos...</td>\n",
       "      <td>https://doi.org/10.1007/S00439-021-02410-Z</td>\n",
       "      <td>0.279409</td>\n",
       "    </tr>\n",
       "  </tbody>\n",
       "</table>\n",
       "</div>"
      ],
      "text/plain": [
       "       PMID                                              title  \\\n",
       "0  28731034  Regulation of hepatic glucose metabolism in he...   \n",
       "1  31148902     Autoimmune hepatitis and IgG4-related disease.   \n",
       "2  36031652  Infantile hepatic hemangioma and hepatic mesen...   \n",
       "3  34928431  Challenges in the diagnosis of neurofibromatos...   \n",
       "\n",
       "                                  article_url  relevance_score  \n",
       "0      https://doi.org/10.1038/Nrendo.2017.80         0.321340  \n",
       "1    https://doi.org/10.3748/Wjg.V25.I19.2308         0.307815  \n",
       "2        https://doi.org/10.1002/Ajmg.A.62767         0.281110  \n",
       "3  https://doi.org/10.1007/S00439-021-02410-Z         0.279409  "
      ]
     },
     "metadata": {},
     "output_type": "display_data"
    }
   ],
   "source": [
    "query = \"Diagnostic criteria for rare hepatic diseases\"\n",
    "relevant_docs, summary = search_documents(query)\n",
    "print(f\"Query: {query}\")\n",
    "print(f\"Summary:\")\n",
    "display(summary)\n",
    "print(f\"Relevant Documents:\")\n",
    "display(relevant_docs[['PMID', 'title','article_url','relevance_score']])"
   ]
  },
  {
   "cell_type": "code",
   "execution_count": 96,
   "metadata": {},
   "outputs": [
    {
     "name": "stdout",
     "output_type": "stream",
     "text": [
      "Query: Long-term outcomes of rare systemic diseases in childhood\n",
      "Summary:\n"
     ]
    },
    {
     "data": {
      "text/plain": [
       "'childhood glaucoma is classified in primary and secondary congenital glaucoma. CYP1B1 gene mutations seem to account for 87% of familial cases. childhood absence epilepsy (CAE) is considered easily manageable with medication. childhood absence epilepsy (epi) is most frequent in school-aged girls and is most frequent in school-aged girls. epi is a rare chromosomal disorder with distinctive phenotypic expressivity.'"
      ]
     },
     "metadata": {},
     "output_type": "display_data"
    },
    {
     "name": "stdout",
     "output_type": "stream",
     "text": [
      "Relevant Documents:\n"
     ]
    },
    {
     "data": {
      "text/html": [
       "<div>\n",
       "<style scoped>\n",
       "    .dataframe tbody tr th:only-of-type {\n",
       "        vertical-align: middle;\n",
       "    }\n",
       "\n",
       "    .dataframe tbody tr th {\n",
       "        vertical-align: top;\n",
       "    }\n",
       "\n",
       "    .dataframe thead th {\n",
       "        text-align: right;\n",
       "    }\n",
       "</style>\n",
       "<table border=\"1\" class=\"dataframe\">\n",
       "  <thead>\n",
       "    <tr style=\"text-align: right;\">\n",
       "      <th></th>\n",
       "      <th>PMID</th>\n",
       "      <th>title</th>\n",
       "      <th>article_url</th>\n",
       "      <th>relevance_score</th>\n",
       "    </tr>\n",
       "  </thead>\n",
       "  <tbody>\n",
       "    <tr>\n",
       "      <th>0</th>\n",
       "      <td>33466173</td>\n",
       "      <td>Prenatal diagnosis and ultrasonographic findin...</td>\n",
       "      <td>https://doi.org/10.1016/J.Amjms.2021.09.004</td>\n",
       "      <td>0.202516</td>\n",
       "    </tr>\n",
       "    <tr>\n",
       "      <th>1</th>\n",
       "      <td>26451378</td>\n",
       "      <td>Rare Diseases Leading to Childhood Glaucoma: E...</td>\n",
       "      <td>https://doi.org/10.2478/Bjmg-2019-0024</td>\n",
       "      <td>0.181602</td>\n",
       "    </tr>\n",
       "    <tr>\n",
       "      <th>2</th>\n",
       "      <td>31733607</td>\n",
       "      <td>B cell targeted therapies in autoimmune disease.</td>\n",
       "      <td>https://doi.org/10.1016/J.Coi.2019.09.004</td>\n",
       "      <td>0.177663</td>\n",
       "    </tr>\n",
       "    <tr>\n",
       "      <th>3</th>\n",
       "      <td>28325560</td>\n",
       "      <td>Long-term prognosis of childhood absence epile...</td>\n",
       "      <td>https://doi.org/10.1016/J.Nrl.2016.12.005</td>\n",
       "      <td>0.170796</td>\n",
       "    </tr>\n",
       "    <tr>\n",
       "      <th>4</th>\n",
       "      <td>38045990</td>\n",
       "      <td>Adult Phenotype of &lt;i&gt;SYNGAP1&lt;/i&gt;-DEE.</td>\n",
       "      <td>https://doi.org/10.1016/J.Seizure.2009.04.004</td>\n",
       "      <td>0.170199</td>\n",
       "    </tr>\n",
       "  </tbody>\n",
       "</table>\n",
       "</div>"
      ],
      "text/plain": [
       "       PMID                                              title  \\\n",
       "0  33466173  Prenatal diagnosis and ultrasonographic findin...   \n",
       "1  26451378  Rare Diseases Leading to Childhood Glaucoma: E...   \n",
       "2  31733607   B cell targeted therapies in autoimmune disease.   \n",
       "3  28325560  Long-term prognosis of childhood absence epile...   \n",
       "4  38045990             Adult Phenotype of <i>SYNGAP1</i>-DEE.   \n",
       "\n",
       "                                     article_url  relevance_score  \n",
       "0    https://doi.org/10.1016/J.Amjms.2021.09.004         0.202516  \n",
       "1         https://doi.org/10.2478/Bjmg-2019-0024         0.181602  \n",
       "2      https://doi.org/10.1016/J.Coi.2019.09.004         0.177663  \n",
       "3      https://doi.org/10.1016/J.Nrl.2016.12.005         0.170796  \n",
       "4  https://doi.org/10.1016/J.Seizure.2009.04.004         0.170199  "
      ]
     },
     "metadata": {},
     "output_type": "display_data"
    }
   ],
   "source": [
    "query = \"Long-term outcomes of rare systemic diseases in childhood\"\n",
    "relevant_docs, summary = search_documents(query)\n",
    "print(f\"Query: {query}\")\n",
    "print(f\"Summary:\")\n",
    "display(summary)\n",
    "print(f\"Relevant Documents:\")\n",
    "display(relevant_docs[['PMID', 'title','article_url','relevance_score']])"
   ]
  },
  {
   "cell_type": "code",
   "execution_count": 95,
   "metadata": {},
   "outputs": [
    {
     "name": "stdout",
     "output_type": "stream",
     "text": [
      "Query: Fertility treatment outcomes in rare infertility cases\n",
      "Summary:\n"
     ]
    },
    {
     "data": {
      "text/plain": [
       "'Approximately half of male factor infertility cases have no known cause. but, it is likely that the majority of idiopathic male factor infertility cases have some unidentified genetic basis. Approximately 15% of couples worldwide are affected with infertility, attributed to a male co-factor in about half of the cases. most studies evaluate a single gene, an approach that is very inefficient in the context of male infertility.'"
      ]
     },
     "metadata": {},
     "output_type": "display_data"
    },
    {
     "name": "stdout",
     "output_type": "stream",
     "text": [
      "Relevant Documents:\n"
     ]
    },
    {
     "data": {
      "text/html": [
       "<div>\n",
       "<style scoped>\n",
       "    .dataframe tbody tr th:only-of-type {\n",
       "        vertical-align: middle;\n",
       "    }\n",
       "\n",
       "    .dataframe tbody tr th {\n",
       "        vertical-align: top;\n",
       "    }\n",
       "\n",
       "    .dataframe thead th {\n",
       "        text-align: right;\n",
       "    }\n",
       "</style>\n",
       "<table border=\"1\" class=\"dataframe\">\n",
       "  <thead>\n",
       "    <tr style=\"text-align: right;\">\n",
       "      <th></th>\n",
       "      <th>PMID</th>\n",
       "      <th>title</th>\n",
       "      <th>article_url</th>\n",
       "      <th>relevance_score</th>\n",
       "    </tr>\n",
       "  </thead>\n",
       "  <tbody>\n",
       "    <tr>\n",
       "      <th>0</th>\n",
       "      <td>24574159</td>\n",
       "      <td>Genetic susceptibility to male infertility: ne...</td>\n",
       "      <td>https://doi.org/10.1111/J.2047-2927.2014.00188.X</td>\n",
       "      <td>0.395717</td>\n",
       "    </tr>\n",
       "    <tr>\n",
       "      <th>1</th>\n",
       "      <td>32622407</td>\n",
       "      <td>Fertility issues and pregnancy outcomes in Tur...</td>\n",
       "      <td>https://doi.org/10.1016/J.Fertnstert.2020.03.002</td>\n",
       "      <td>0.377151</td>\n",
       "    </tr>\n",
       "    <tr>\n",
       "      <th>2</th>\n",
       "      <td>31355535</td>\n",
       "      <td>Clinical and molecular characterization of Y m...</td>\n",
       "      <td>https://doi.org/10.1111/Andr.12686</td>\n",
       "      <td>0.339412</td>\n",
       "    </tr>\n",
       "    <tr>\n",
       "      <th>3</th>\n",
       "      <td>33071633</td>\n",
       "      <td>Genetic disorders and male infertility.</td>\n",
       "      <td>https://doi.org/10.1002/Rmb2.12336</td>\n",
       "      <td>0.336226</td>\n",
       "    </tr>\n",
       "  </tbody>\n",
       "</table>\n",
       "</div>"
      ],
      "text/plain": [
       "       PMID                                              title  \\\n",
       "0  24574159  Genetic susceptibility to male infertility: ne...   \n",
       "1  32622407  Fertility issues and pregnancy outcomes in Tur...   \n",
       "2  31355535  Clinical and molecular characterization of Y m...   \n",
       "3  33071633            Genetic disorders and male infertility.   \n",
       "\n",
       "                                        article_url  relevance_score  \n",
       "0  https://doi.org/10.1111/J.2047-2927.2014.00188.X         0.395717  \n",
       "1  https://doi.org/10.1016/J.Fertnstert.2020.03.002         0.377151  \n",
       "2                https://doi.org/10.1111/Andr.12686         0.339412  \n",
       "3                https://doi.org/10.1002/Rmb2.12336         0.336226  "
      ]
     },
     "metadata": {},
     "output_type": "display_data"
    }
   ],
   "source": [
    "query = \"Fertility treatment outcomes in rare infertility cases\"\n",
    "relevant_docs, summary = search_documents(query)\n",
    "print(f\"Query: {query}\")\n",
    "print(f\"Summary:\")\n",
    "display(summary)\n",
    "print(f\"Relevant Documents:\")\n",
    "display(relevant_docs[['PMID', 'title','article_url','relevance_score']])"
   ]
  },
  {
   "cell_type": "code",
   "execution_count": 94,
   "metadata": {},
   "outputs": [
    {
     "name": "stdout",
     "output_type": "stream",
     "text": [
      "Query: Symptoms of rare respiratory diseases\n",
      "Summary:\n"
     ]
    },
    {
     "data": {
      "text/plain": [
       "\"costello syndrome (CS) is a multisystem disorder caused by heterozygous germline mutations in the HRAS proto-oncogene. in the neonatal period, respiratory complications are seen in approximately 78% of patients with transient respiratory distress reported in 45% of neonates. other more specific respiratory diagnoses were reported in 62% of patients, the majority of which comprised disorders of the upper and lower respiratory tract. this review summarizes neonatal respiratory therapy's advances and available strategies.\""
      ]
     },
     "metadata": {},
     "output_type": "display_data"
    },
    {
     "name": "stdout",
     "output_type": "stream",
     "text": [
      "Relevant Documents:\n"
     ]
    },
    {
     "data": {
      "text/html": [
       "<div>\n",
       "<style scoped>\n",
       "    .dataframe tbody tr th:only-of-type {\n",
       "        vertical-align: middle;\n",
       "    }\n",
       "\n",
       "    .dataframe tbody tr th {\n",
       "        vertical-align: top;\n",
       "    }\n",
       "\n",
       "    .dataframe thead th {\n",
       "        text-align: right;\n",
       "    }\n",
       "</style>\n",
       "<table border=\"1\" class=\"dataframe\">\n",
       "  <thead>\n",
       "    <tr style=\"text-align: right;\">\n",
       "      <th></th>\n",
       "      <th>PMID</th>\n",
       "      <th>title</th>\n",
       "      <th>article_url</th>\n",
       "      <th>relevance_score</th>\n",
       "    </tr>\n",
       "  </thead>\n",
       "  <tbody>\n",
       "    <tr>\n",
       "      <th>0</th>\n",
       "      <td>28877977</td>\n",
       "      <td>Rare pulmonary diseases: a common fight.</td>\n",
       "      <td>https://doi.org/10.1038/S41576-022-00478-5</td>\n",
       "      <td>0.466163</td>\n",
       "    </tr>\n",
       "    <tr>\n",
       "      <th>1</th>\n",
       "      <td>27102959</td>\n",
       "      <td>Respiratory system involvement in Costello syn...</td>\n",
       "      <td>https://doi.org/10.1002/Ajmg.A.37655</td>\n",
       "      <td>0.410557</td>\n",
       "    </tr>\n",
       "    <tr>\n",
       "      <th>2</th>\n",
       "      <td>35382987</td>\n",
       "      <td>New developments in neonatal respiratory manag...</td>\n",
       "      <td>https://doi.org/10.1016/J.Pedneo.2022.02.002</td>\n",
       "      <td>0.285090</td>\n",
       "    </tr>\n",
       "    <tr>\n",
       "      <th>3</th>\n",
       "      <td>32016537</td>\n",
       "      <td>Respiratory drive in the acute respiratory dis...</td>\n",
       "      <td>https://doi.org/10.1007/S00134-020-05942-6</td>\n",
       "      <td>0.273988</td>\n",
       "    </tr>\n",
       "  </tbody>\n",
       "</table>\n",
       "</div>"
      ],
      "text/plain": [
       "       PMID                                              title  \\\n",
       "0  28877977           Rare pulmonary diseases: a common fight.   \n",
       "1  27102959  Respiratory system involvement in Costello syn...   \n",
       "2  35382987  New developments in neonatal respiratory manag...   \n",
       "3  32016537  Respiratory drive in the acute respiratory dis...   \n",
       "\n",
       "                                    article_url  relevance_score  \n",
       "0    https://doi.org/10.1038/S41576-022-00478-5         0.466163  \n",
       "1          https://doi.org/10.1002/Ajmg.A.37655         0.410557  \n",
       "2  https://doi.org/10.1016/J.Pedneo.2022.02.002         0.285090  \n",
       "3    https://doi.org/10.1007/S00134-020-05942-6         0.273988  "
      ]
     },
     "metadata": {},
     "output_type": "display_data"
    }
   ],
   "source": [
    "query = \"Symptoms of rare respiratory diseases\"\n",
    "relevant_docs, summary = search_documents(query)\n",
    "print(f\"Query: {query}\")\n",
    "print(f\"Summary:\")\n",
    "display(summary)\n",
    "print(f\"Relevant Documents:\")\n",
    "display(relevant_docs[['PMID', 'title','article_url','relevance_score']])"
   ]
  },
  {
   "cell_type": "code",
   "execution_count": 91,
   "metadata": {},
   "outputs": [
    {
     "name": "stdout",
     "output_type": "stream",
     "text": [
      "Query: Biologic drug therapies for rare skin diseases\n",
      "Summary:\n"
     ]
    },
    {
     "data": {
      "text/plain": [
       "'skin cancer has been the leading type of cancer worldwide. skin fibrosis is characterized by excessive fibroblast proliferation and extracellular matrix deposition in the dermis. effective anti-scarring therapeutics remain an unmet need, says dr. sanjay gupta. gupta: the mortality rate of severe drug eruptions can reach up to 50% if not treated early. gupta: a multidisciplinary approach is required for acute management '"
      ]
     },
     "metadata": {},
     "output_type": "display_data"
    },
    {
     "name": "stdout",
     "output_type": "stream",
     "text": [
      "Relevant Documents:\n"
     ]
    },
    {
     "data": {
      "text/html": [
       "<div>\n",
       "<style scoped>\n",
       "    .dataframe tbody tr th:only-of-type {\n",
       "        vertical-align: middle;\n",
       "    }\n",
       "\n",
       "    .dataframe tbody tr th {\n",
       "        vertical-align: top;\n",
       "    }\n",
       "\n",
       "    .dataframe thead th {\n",
       "        text-align: right;\n",
       "    }\n",
       "</style>\n",
       "<table border=\"1\" class=\"dataframe\">\n",
       "  <thead>\n",
       "    <tr style=\"text-align: right;\">\n",
       "      <th></th>\n",
       "      <th>PMID</th>\n",
       "      <th>title</th>\n",
       "      <th>article_url</th>\n",
       "      <th>relevance_score</th>\n",
       "    </tr>\n",
       "  </thead>\n",
       "  <tbody>\n",
       "    <tr>\n",
       "      <th>0</th>\n",
       "      <td>35127174</td>\n",
       "      <td>Skin cancer biology and barriers to treatment:...</td>\n",
       "      <td>https://doi.org/10.1016/J.Jare.2021.06.014</td>\n",
       "      <td>0.223879</td>\n",
       "    </tr>\n",
       "    <tr>\n",
       "      <th>1</th>\n",
       "      <td>20065636</td>\n",
       "      <td>Canakinumab.</td>\n",
       "      <td>https://doi.org/10.1038/Nm.3804</td>\n",
       "      <td>0.212849</td>\n",
       "    </tr>\n",
       "    <tr>\n",
       "      <th>2</th>\n",
       "      <td>34273058</td>\n",
       "      <td>Current Perspectives on Severe Drug Eruption.</td>\n",
       "      <td>https://doi.org/10.1007/S12016-021-08859-0</td>\n",
       "      <td>0.211538</td>\n",
       "    </tr>\n",
       "    <tr>\n",
       "      <th>3</th>\n",
       "      <td>31493000</td>\n",
       "      <td>The IL-4/IL-13 axis in skin fibrosis and scarr...</td>\n",
       "      <td>https://doi.org/10.1007/S00403-019-01972-3</td>\n",
       "      <td>0.203446</td>\n",
       "    </tr>\n",
       "    <tr>\n",
       "      <th>4</th>\n",
       "      <td>34641447</td>\n",
       "      <td>Controlled Drug Delivery Systems: Current Stat...</td>\n",
       "      <td>https://doi.org/10.1016/J.Chest.2021.10.010</td>\n",
       "      <td>0.202744</td>\n",
       "    </tr>\n",
       "  </tbody>\n",
       "</table>\n",
       "</div>"
      ],
      "text/plain": [
       "       PMID                                              title  \\\n",
       "0  35127174  Skin cancer biology and barriers to treatment:...   \n",
       "1  20065636                                       Canakinumab.   \n",
       "2  34273058      Current Perspectives on Severe Drug Eruption.   \n",
       "3  31493000  The IL-4/IL-13 axis in skin fibrosis and scarr...   \n",
       "4  34641447  Controlled Drug Delivery Systems: Current Stat...   \n",
       "\n",
       "                                   article_url  relevance_score  \n",
       "0   https://doi.org/10.1016/J.Jare.2021.06.014         0.223879  \n",
       "1              https://doi.org/10.1038/Nm.3804         0.212849  \n",
       "2   https://doi.org/10.1007/S12016-021-08859-0         0.211538  \n",
       "3   https://doi.org/10.1007/S00403-019-01972-3         0.203446  \n",
       "4  https://doi.org/10.1016/J.Chest.2021.10.010         0.202744  "
      ]
     },
     "metadata": {},
     "output_type": "display_data"
    }
   ],
   "source": [
    "query = \"Biologic drug therapies for rare skin diseases\"\n",
    "relevant_docs, summary = search_documents(query)\n",
    "print(f\"Query: {query}\")\n",
    "print(f\"Summary:\")\n",
    "display(summary)\n",
    "print(f\"Relevant Documents:\")\n",
    "display(relevant_docs[['PMID', 'title','article_url','relevance_score']])"
   ]
  },
  {
   "cell_type": "code",
   "execution_count": 90,
   "metadata": {},
   "outputs": [
    {
     "name": "stdout",
     "output_type": "stream",
     "text": [
      "Query: Renal replacement therapy options for rare renal diseases\n",
      "Summary:\n"
     ]
    },
    {
     "data": {
      "text/plain": [
       "'atherosclerotic renal artery stenosis is the leading cause of secondary hypertension. it may lead to resistant (refractory) hypertension, progressive decline in renal function, and cardiac destabilization syndromes. the best strategy to approach the treatment of atherosclerotic renal artery stenosis is to revascularize patients with renal artery stenosis. the authors review techniques to optimize patient selection, to minimize procedural complications, and to facilitate durable pat'"
      ]
     },
     "metadata": {},
     "output_type": "display_data"
    },
    {
     "name": "stdout",
     "output_type": "stream",
     "text": [
      "Relevant Documents:\n"
     ]
    },
    {
     "data": {
      "text/html": [
       "<div>\n",
       "<style scoped>\n",
       "    .dataframe tbody tr th:only-of-type {\n",
       "        vertical-align: middle;\n",
       "    }\n",
       "\n",
       "    .dataframe tbody tr th {\n",
       "        vertical-align: top;\n",
       "    }\n",
       "\n",
       "    .dataframe thead th {\n",
       "        text-align: right;\n",
       "    }\n",
       "</style>\n",
       "<table border=\"1\" class=\"dataframe\">\n",
       "  <thead>\n",
       "    <tr style=\"text-align: right;\">\n",
       "      <th></th>\n",
       "      <th>PMID</th>\n",
       "      <th>title</th>\n",
       "      <th>article_url</th>\n",
       "      <th>relevance_score</th>\n",
       "    </tr>\n",
       "  </thead>\n",
       "  <tbody>\n",
       "    <tr>\n",
       "      <th>0</th>\n",
       "      <td>21071977</td>\n",
       "      <td>Tuberous sclerosis complex renal disease.</td>\n",
       "      <td>https://doi.org/10.1159/000320891</td>\n",
       "      <td>0.422263</td>\n",
       "    </tr>\n",
       "    <tr>\n",
       "      <th>1</th>\n",
       "      <td>30898248</td>\n",
       "      <td>When and How Should We Revascularize Patients ...</td>\n",
       "      <td>https://doi.org/10.1016/J.Jcin.2018.10.023</td>\n",
       "      <td>0.363647</td>\n",
       "    </tr>\n",
       "    <tr>\n",
       "      <th>2</th>\n",
       "      <td>33603889</td>\n",
       "      <td>Management of acute intradialytic cardiovascul...</td>\n",
       "      <td>https://doi.org/10.1016/J.Jcin.2018.10.023</td>\n",
       "      <td>0.362259</td>\n",
       "    </tr>\n",
       "    <tr>\n",
       "      <th>3</th>\n",
       "      <td>30274631</td>\n",
       "      <td>Renal Manifestations of Inflammatory Bowel Dis...</td>\n",
       "      <td>https://doi.org/10.1016/J.Rdc.2018.06.007</td>\n",
       "      <td>0.358660</td>\n",
       "    </tr>\n",
       "    <tr>\n",
       "      <th>4</th>\n",
       "      <td>25316474</td>\n",
       "      <td>Renal artery stenosis in association with cong...</td>\n",
       "      <td>https://doi.org/10.1038/S41375-021-01290-6</td>\n",
       "      <td>0.358251</td>\n",
       "    </tr>\n",
       "  </tbody>\n",
       "</table>\n",
       "</div>"
      ],
      "text/plain": [
       "       PMID                                              title  \\\n",
       "0  21071977          Tuberous sclerosis complex renal disease.   \n",
       "1  30898248  When and How Should We Revascularize Patients ...   \n",
       "2  33603889  Management of acute intradialytic cardiovascul...   \n",
       "3  30274631  Renal Manifestations of Inflammatory Bowel Dis...   \n",
       "4  25316474  Renal artery stenosis in association with cong...   \n",
       "\n",
       "                                  article_url  relevance_score  \n",
       "0           https://doi.org/10.1159/000320891         0.422263  \n",
       "1  https://doi.org/10.1016/J.Jcin.2018.10.023         0.363647  \n",
       "2  https://doi.org/10.1016/J.Jcin.2018.10.023         0.362259  \n",
       "3   https://doi.org/10.1016/J.Rdc.2018.06.007         0.358660  \n",
       "4  https://doi.org/10.1038/S41375-021-01290-6         0.358251  "
      ]
     },
     "metadata": {},
     "output_type": "display_data"
    }
   ],
   "source": [
    "query = \"Renal replacement therapy options for rare renal diseases\"\n",
    "relevant_docs, summary = search_documents(query)\n",
    "print(f\"Query: {query}\")\n",
    "print(f\"Summary:\")\n",
    "display(summary)\n",
    "print(f\"Relevant Documents:\")\n",
    "display(relevant_docs[['PMID', 'title','article_url','relevance_score']])"
   ]
  },
  {
   "cell_type": "code",
   "execution_count": 89,
   "metadata": {},
   "outputs": [
    {
     "name": "stdout",
     "output_type": "stream",
     "text": [
      "Query: Prenatal diagnostic methods for rare teratologic disorders\n",
      "Summary:\n"
     ]
    },
    {
     "data": {
      "text/plain": [
       "'angelman syndrome (AS) is a rare neurodevelopmental disorder caused by mutation or deletion of the maternally inherited UBE3A allele. genetic tests can detect the chromosome 15q11-q13 deletion that is the most common cause of AS. prenatal testing combined with prenatal treatment has the potential to revolutionize how clinicians detect and treat babies before they are symptomatic. this pioneering prenatal treatment path for AS will lay the foundation for treating other syndromic neurodevelopmental disorders'"
      ]
     },
     "metadata": {},
     "output_type": "display_data"
    },
    {
     "name": "stdout",
     "output_type": "stream",
     "text": [
      "Relevant Documents:\n"
     ]
    },
    {
     "data": {
      "text/html": [
       "<div>\n",
       "<style scoped>\n",
       "    .dataframe tbody tr th:only-of-type {\n",
       "        vertical-align: middle;\n",
       "    }\n",
       "\n",
       "    .dataframe tbody tr th {\n",
       "        vertical-align: top;\n",
       "    }\n",
       "\n",
       "    .dataframe thead th {\n",
       "        text-align: right;\n",
       "    }\n",
       "</style>\n",
       "<table border=\"1\" class=\"dataframe\">\n",
       "  <thead>\n",
       "    <tr style=\"text-align: right;\">\n",
       "      <th></th>\n",
       "      <th>PMID</th>\n",
       "      <th>title</th>\n",
       "      <th>article_url</th>\n",
       "      <th>relevance_score</th>\n",
       "    </tr>\n",
       "  </thead>\n",
       "  <tbody>\n",
       "    <tr>\n",
       "      <th>0</th>\n",
       "      <td>27590389</td>\n",
       "      <td>Prenatal diagnosis of partial monosomy 5p (5p1...</td>\n",
       "      <td>https://doi.org/10.1016/J.Tjog.2016.06.014</td>\n",
       "      <td>0.156389</td>\n",
       "    </tr>\n",
       "    <tr>\n",
       "      <th>1</th>\n",
       "      <td>31490639</td>\n",
       "      <td>Prenatal treatment path for angelman syndrome ...</td>\n",
       "      <td>https://doi.org/10.1002/Aur.2203</td>\n",
       "      <td>0.151882</td>\n",
       "    </tr>\n",
       "    <tr>\n",
       "      <th>2</th>\n",
       "      <td>27208505</td>\n",
       "      <td>A diagnostic approach to mild bleeding disorders.</td>\n",
       "      <td>https://doi.org/10.1111/Jth.13368</td>\n",
       "      <td>0.140649</td>\n",
       "    </tr>\n",
       "    <tr>\n",
       "      <th>3</th>\n",
       "      <td>22030049</td>\n",
       "      <td>Prenatal diagnosis of mosaic trisomy 8: clinic...</td>\n",
       "      <td>https://doi.org/10.1016/J.Tjog.2011.07.013</td>\n",
       "      <td>0.130093</td>\n",
       "    </tr>\n",
       "    <tr>\n",
       "      <th>4</th>\n",
       "      <td>36034547</td>\n",
       "      <td>Prenatal ultrasound phenotypic and genetic eti...</td>\n",
       "      <td>https://doi.org/10.1016/J.Ajhg.2010.06.010</td>\n",
       "      <td>0.128718</td>\n",
       "    </tr>\n",
       "  </tbody>\n",
       "</table>\n",
       "</div>"
      ],
      "text/plain": [
       "       PMID                                              title  \\\n",
       "0  27590389  Prenatal diagnosis of partial monosomy 5p (5p1...   \n",
       "1  31490639  Prenatal treatment path for angelman syndrome ...   \n",
       "2  27208505  A diagnostic approach to mild bleeding disorders.   \n",
       "3  22030049  Prenatal diagnosis of mosaic trisomy 8: clinic...   \n",
       "4  36034547  Prenatal ultrasound phenotypic and genetic eti...   \n",
       "\n",
       "                                  article_url  relevance_score  \n",
       "0  https://doi.org/10.1016/J.Tjog.2016.06.014         0.156389  \n",
       "1            https://doi.org/10.1002/Aur.2203         0.151882  \n",
       "2           https://doi.org/10.1111/Jth.13368         0.140649  \n",
       "3  https://doi.org/10.1016/J.Tjog.2011.07.013         0.130093  \n",
       "4  https://doi.org/10.1016/J.Ajhg.2010.06.010         0.128718  "
      ]
     },
     "metadata": {},
     "output_type": "display_data"
    }
   ],
   "source": [
    "query = \"Prenatal diagnostic methods for rare teratologic disorders\"\n",
    "relevant_docs, summary = search_documents(query)\n",
    "print(f\"Query: {query}\")\n",
    "print(f\"Summary:\")\n",
    "display(summary)\n",
    "print(f\"Relevant Documents:\")\n",
    "display(relevant_docs[['PMID', 'title','article_url','relevance_score']])"
   ]
  },
  {
   "cell_type": "code",
   "execution_count": 88,
   "metadata": {},
   "outputs": [
    {
     "name": "stdout",
     "output_type": "stream",
     "text": [
      "Query: Robotic surgery in the treatment of rare urogenital diseases\n",
      "Summary:\n"
     ]
    },
    {
     "data": {
      "text/plain": [
       "'robotic surgery has shown clear utility and advantages in the adult population. but its role in pediatrics remains controversial. robotic pyeloplasty is a standard of care in older children and has even been performed in infants and re-do surgery. future advances in robotics will help to advance the field of robotic surgery in pediatric urology. back to mail online home. back to the page you came from. back to the page you came from.'"
      ]
     },
     "metadata": {},
     "output_type": "display_data"
    },
    {
     "name": "stdout",
     "output_type": "stream",
     "text": [
      "Relevant Documents:\n"
     ]
    },
    {
     "data": {
      "text/html": [
       "<div>\n",
       "<style scoped>\n",
       "    .dataframe tbody tr th:only-of-type {\n",
       "        vertical-align: middle;\n",
       "    }\n",
       "\n",
       "    .dataframe tbody tr th {\n",
       "        vertical-align: top;\n",
       "    }\n",
       "\n",
       "    .dataframe thead th {\n",
       "        text-align: right;\n",
       "    }\n",
       "</style>\n",
       "<table border=\"1\" class=\"dataframe\">\n",
       "  <thead>\n",
       "    <tr style=\"text-align: right;\">\n",
       "      <th></th>\n",
       "      <th>PMID</th>\n",
       "      <th>title</th>\n",
       "      <th>article_url</th>\n",
       "      <th>relevance_score</th>\n",
       "    </tr>\n",
       "  </thead>\n",
       "  <tbody>\n",
       "    <tr>\n",
       "      <th>0</th>\n",
       "      <td>29264208</td>\n",
       "      <td>Robotic surgery in pediatric urology.</td>\n",
       "      <td>https://doi.org/10.1016/J.Ajur.2016.06.002</td>\n",
       "      <td>0.403642</td>\n",
       "    </tr>\n",
       "    <tr>\n",
       "      <th>1</th>\n",
       "      <td>35038623</td>\n",
       "      <td>Intensified Hyposensitization Is an Effective ...</td>\n",
       "      <td>https://doi.org/10.1016/J.Fertnstert.2019.11.021</td>\n",
       "      <td>0.187432</td>\n",
       "    </tr>\n",
       "    <tr>\n",
       "      <th>2</th>\n",
       "      <td>35159098</td>\n",
       "      <td>A Comprehensive Commentary on the Multilocular...</td>\n",
       "      <td>https://doi.org/10.3348/Jksr.2021.0022</td>\n",
       "      <td>0.175941</td>\n",
       "    </tr>\n",
       "    <tr>\n",
       "      <th>3</th>\n",
       "      <td>27833904</td>\n",
       "      <td>Surgical Treatment after Failed Primary Correc...</td>\n",
       "      <td>https://doi.org/10.1002/Uog.7721</td>\n",
       "      <td>0.167779</td>\n",
       "    </tr>\n",
       "    <tr>\n",
       "      <th>4</th>\n",
       "      <td>35440058</td>\n",
       "      <td>Molecular cytogenetic characterization of part...</td>\n",
       "      <td>https://doi.org/10.1159/000511972</td>\n",
       "      <td>0.166603</td>\n",
       "    </tr>\n",
       "  </tbody>\n",
       "</table>\n",
       "</div>"
      ],
      "text/plain": [
       "       PMID                                              title  \\\n",
       "0  29264208              Robotic surgery in pediatric urology.   \n",
       "1  35038623  Intensified Hyposensitization Is an Effective ...   \n",
       "2  35159098  A Comprehensive Commentary on the Multilocular...   \n",
       "3  27833904  Surgical Treatment after Failed Primary Correc...   \n",
       "4  35440058  Molecular cytogenetic characterization of part...   \n",
       "\n",
       "                                        article_url  relevance_score  \n",
       "0        https://doi.org/10.1016/J.Ajur.2016.06.002         0.403642  \n",
       "1  https://doi.org/10.1016/J.Fertnstert.2019.11.021         0.187432  \n",
       "2            https://doi.org/10.3348/Jksr.2021.0022         0.175941  \n",
       "3                  https://doi.org/10.1002/Uog.7721         0.167779  \n",
       "4                 https://doi.org/10.1159/000511972         0.166603  "
      ]
     },
     "metadata": {},
     "output_type": "display_data"
    }
   ],
   "source": [
    "query = \"Robotic surgery in the treatment of rare urogenital diseases\"\n",
    "relevant_docs, summary = search_documents(query)\n",
    "print(f\"Query: {query}\")\n",
    "print(f\"Summary:\")\n",
    "display(summary)\n",
    "print(f\"Relevant Documents:\")\n",
    "display(relevant_docs[['PMID', 'title','article_url','relevance_score']])"
   ]
  },
  {
   "cell_type": "code",
   "execution_count": 85,
   "metadata": {},
   "outputs": [
    {
     "name": "stdout",
     "output_type": "stream",
     "text": [
      "Query: Gene editing prospects in treating rare genetic diseases\n",
      "Summary:\n"
     ]
    },
    {
     "data": {
      "text/plain": [
       "'gene editing is a powerful tool for genome and cell engineering. exemplified by CRISPR-Cas, gene editing could cause DNA damage. catalytically inactive dCas9 promotes knock-in of long sequences in mammalian cells. dCas9-SSAP editor has low on-target errors and minimal off-target effects. dCas9-SSAP is effective for inserting kilobase-scale sequences '"
      ]
     },
     "metadata": {},
     "output_type": "display_data"
    },
    {
     "name": "stdout",
     "output_type": "stream",
     "text": [
      "Relevant Documents:\n"
     ]
    },
    {
     "data": {
      "text/html": [
       "<div>\n",
       "<style scoped>\n",
       "    .dataframe tbody tr th:only-of-type {\n",
       "        vertical-align: middle;\n",
       "    }\n",
       "\n",
       "    .dataframe tbody tr th {\n",
       "        vertical-align: top;\n",
       "    }\n",
       "\n",
       "    .dataframe thead th {\n",
       "        text-align: right;\n",
       "    }\n",
       "</style>\n",
       "<table border=\"1\" class=\"dataframe\">\n",
       "  <thead>\n",
       "    <tr style=\"text-align: right;\">\n",
       "      <th></th>\n",
       "      <th>PMID</th>\n",
       "      <th>title</th>\n",
       "      <th>article_url</th>\n",
       "      <th>relevance_score</th>\n",
       "    </tr>\n",
       "  </thead>\n",
       "  <tbody>\n",
       "    <tr>\n",
       "      <th>0</th>\n",
       "      <td>35145221</td>\n",
       "      <td>dCas9-based gene editing for cleavage-free gen...</td>\n",
       "      <td>https://doi.org/10.1038/S41556-021-00836-1</td>\n",
       "      <td>0.207978</td>\n",
       "    </tr>\n",
       "    <tr>\n",
       "      <th>1</th>\n",
       "      <td>30524313</td>\n",
       "      <td>New Approaches to Tay-Sachs Disease Therapy.</td>\n",
       "      <td>https://doi.org/10.1038/S41586-019-1711-4</td>\n",
       "      <td>0.194631</td>\n",
       "    </tr>\n",
       "    <tr>\n",
       "      <th>2</th>\n",
       "      <td>31634902</td>\n",
       "      <td>Search-and-replace genome editing without doub...</td>\n",
       "      <td>https://doi.org/10.1038/S41586-019-1711-4</td>\n",
       "      <td>0.194631</td>\n",
       "    </tr>\n",
       "    <tr>\n",
       "      <th>3</th>\n",
       "      <td>35741383</td>\n",
       "      <td>Gene Editing-Based Technologies for &lt;i&gt;Beta-he...</td>\n",
       "      <td>https://doi.org/10.1056/Nejmoa1705342</td>\n",
       "      <td>0.181994</td>\n",
       "    </tr>\n",
       "    <tr>\n",
       "      <th>4</th>\n",
       "      <td>37298481</td>\n",
       "      <td>Precision Editing as a Therapeutic Approach fo...</td>\n",
       "      <td>https://doi.org/10.1080/20009666.2018.1536241</td>\n",
       "      <td>0.173292</td>\n",
       "    </tr>\n",
       "  </tbody>\n",
       "</table>\n",
       "</div>"
      ],
      "text/plain": [
       "       PMID                                              title  \\\n",
       "0  35145221  dCas9-based gene editing for cleavage-free gen...   \n",
       "1  30524313       New Approaches to Tay-Sachs Disease Therapy.   \n",
       "2  31634902  Search-and-replace genome editing without doub...   \n",
       "3  35741383  Gene Editing-Based Technologies for <i>Beta-he...   \n",
       "4  37298481  Precision Editing as a Therapeutic Approach fo...   \n",
       "\n",
       "                                     article_url  relevance_score  \n",
       "0     https://doi.org/10.1038/S41556-021-00836-1         0.207978  \n",
       "1      https://doi.org/10.1038/S41586-019-1711-4         0.194631  \n",
       "2      https://doi.org/10.1038/S41586-019-1711-4         0.194631  \n",
       "3          https://doi.org/10.1056/Nejmoa1705342         0.181994  \n",
       "4  https://doi.org/10.1080/20009666.2018.1536241         0.173292  "
      ]
     },
     "metadata": {},
     "output_type": "display_data"
    }
   ],
   "source": [
    "query = \"Gene editing prospects in treating rare genetic diseases\"\n",
    "relevant_docs, summary = search_documents(query)\n",
    "print(f\"Query: {query}\")\n",
    "print(f\"Summary:\")\n",
    "display(summary)\n",
    "print(f\"Relevant Documents:\")\n",
    "display(relevant_docs[['PMID', 'title','article_url','relevance_score']])"
   ]
  },
  {
   "cell_type": "code",
   "execution_count": 78,
   "metadata": {},
   "outputs": [
    {
     "name": "stdout",
     "output_type": "stream",
     "text": [
      "Query: Role of immunotherapy in treating rare endocrine disorders\n",
      "Summary:\n"
     ]
    },
    {
     "data": {
      "text/plain": [
       "'the therapeutic landscape for non-melanoma skin cancer has expanded with the development of effective and targeted immunotherapy. in this review, we discuss relevant ophthalmic findings associated with key disorders of the pancreas, thyroid gland, and hypothalamic-pituitary axis. diabetes mellitus (DM) is the leading cause of blindness among adults under 75 years of age. ophthalmic retinopathy (DR) has significant predictive value for cardiovascular disease and mortality in patients with'"
      ]
     },
     "metadata": {},
     "output_type": "display_data"
    },
    {
     "name": "stdout",
     "output_type": "stream",
     "text": [
      "Relevant Documents:\n"
     ]
    },
    {
     "data": {
      "text/html": [
       "<div>\n",
       "<style scoped>\n",
       "    .dataframe tbody tr th:only-of-type {\n",
       "        vertical-align: middle;\n",
       "    }\n",
       "\n",
       "    .dataframe tbody tr th {\n",
       "        vertical-align: top;\n",
       "    }\n",
       "\n",
       "    .dataframe thead th {\n",
       "        text-align: right;\n",
       "    }\n",
       "</style>\n",
       "<table border=\"1\" class=\"dataframe\">\n",
       "  <thead>\n",
       "    <tr style=\"text-align: right;\">\n",
       "      <th></th>\n",
       "      <th>PMID</th>\n",
       "      <th>title</th>\n",
       "      <th>article_url</th>\n",
       "      <th>relevance_score</th>\n",
       "    </tr>\n",
       "  </thead>\n",
       "  <tbody>\n",
       "    <tr>\n",
       "      <th>0</th>\n",
       "      <td>34448958</td>\n",
       "      <td>Immunotherapy for Non-melanoma Skin Cancer.</td>\n",
       "      <td>https://doi.org/10.2340/00015555-0359</td>\n",
       "      <td>0.345397</td>\n",
       "    </tr>\n",
       "    <tr>\n",
       "      <th>1</th>\n",
       "      <td>29184811</td>\n",
       "      <td>Dermatologic manifestations of endocrine disor...</td>\n",
       "      <td>https://doi.org/10.21037/Tp.2017.09.08</td>\n",
       "      <td>0.271060</td>\n",
       "    </tr>\n",
       "    <tr>\n",
       "      <th>2</th>\n",
       "      <td>31687637</td>\n",
       "      <td>The Natural History of a Man With Ovotesticula...</td>\n",
       "      <td>https://doi.org/10.1210/Js.2019-00241</td>\n",
       "      <td>0.250915</td>\n",
       "    </tr>\n",
       "    <tr>\n",
       "      <th>3</th>\n",
       "      <td>36613725</td>\n",
       "      <td>Childhood Hypophosphatasia Associated with a N...</td>\n",
       "      <td>https://doi.org/10.1210/Js.2017-00307</td>\n",
       "      <td>0.250636</td>\n",
       "    </tr>\n",
       "    <tr>\n",
       "      <th>4</th>\n",
       "      <td>34884378</td>\n",
       "      <td>Hypophosphatasia.</td>\n",
       "      <td>https://doi.org/10.1210/Js.2017-00307</td>\n",
       "      <td>0.250636</td>\n",
       "    </tr>\n",
       "  </tbody>\n",
       "</table>\n",
       "</div>"
      ],
      "text/plain": [
       "       PMID                                              title  \\\n",
       "0  34448958        Immunotherapy for Non-melanoma Skin Cancer.   \n",
       "1  29184811  Dermatologic manifestations of endocrine disor...   \n",
       "2  31687637  The Natural History of a Man With Ovotesticula...   \n",
       "3  36613725  Childhood Hypophosphatasia Associated with a N...   \n",
       "4  34884378                                  Hypophosphatasia.   \n",
       "\n",
       "                              article_url  relevance_score  \n",
       "0   https://doi.org/10.2340/00015555-0359         0.345397  \n",
       "1  https://doi.org/10.21037/Tp.2017.09.08         0.271060  \n",
       "2   https://doi.org/10.1210/Js.2019-00241         0.250915  \n",
       "3   https://doi.org/10.1210/Js.2017-00307         0.250636  \n",
       "4   https://doi.org/10.1210/Js.2017-00307         0.250636  "
      ]
     },
     "metadata": {},
     "output_type": "display_data"
    }
   ],
   "source": [
    "query = \"Role of immunotherapy in treating rare endocrine disorders\"\n",
    "relevant_docs, summary = search_documents(query)\n",
    "print(f\"Query: {query}\")\n",
    "print(f\"Summary:\")\n",
    "display(summary)\n",
    "print(f\"Relevant Documents:\")\n",
    "display(relevant_docs[['PMID', 'title','article_url','relevance_score']])"
   ]
  }
 ],
 "metadata": {
  "kernelspec": {
   "display_name": "Python 3",
   "language": "python",
   "name": "python3"
  },
  "language_info": {
   "codemirror_mode": {
    "name": "ipython",
    "version": 3
   },
   "file_extension": ".py",
   "mimetype": "text/x-python",
   "name": "python",
   "nbconvert_exporter": "python",
   "pygments_lexer": "ipython3",
   "version": "3.10.13"
  }
 },
 "nbformat": 4,
 "nbformat_minor": 2
}
