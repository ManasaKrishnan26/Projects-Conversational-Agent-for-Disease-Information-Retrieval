{
 "cells": [
  {
   "cell_type": "code",
   "execution_count": 3,
   "metadata": {},
   "outputs": [],
   "source": [
    "import os\n",
    "import xml.etree.ElementTree as ET\n",
    "import json\n",
    "from Bio import Entrez\n",
    "import requests\n",
    "from selenium import webdriver\n",
    "from bs4 import BeautifulSoup  # For HTML parsing\n",
    "import time\n",
    "from tqdm import tqdm\n"
   ]
  },
  {
   "cell_type": "markdown",
   "metadata": {},
   "source": [
    "### GET DISEASES DATA FROM ORPHANET FILES"
   ]
  },
  {
   "cell_type": "markdown",
   "metadata": {},
   "source": [
    "The list of rare diseases are available here  -  https://www.orphadata.com/classifications/"
   ]
  },
  {
   "cell_type": "code",
   "execution_count": null,
   "metadata": {},
   "outputs": [],
   "source": [
    "def read_files_from_folder(folder_path):\n",
    "    files = os.listdir(folder_path)\n",
    "    return files\n",
    "\n",
    "def parse_orphanet_xml(file_path):\n",
    "    tree = ET.parse(file_path)\n",
    "    root = tree.getroot()\n",
    "\n",
    "    diseases = []\n",
    "    for disorder in root.findall('.//Disorder'):\n",
    "        name = disorder.find('.//Name[@lang=\"en\"]')\n",
    "        orpha_code = disorder.find('.//OrphaCode')\n",
    "        if name is not None and orpha_code is not None:\n",
    "            diseases.append({'name': name.text, 'orpha_code': orpha_code.text})\n",
    "    return diseases"
   ]
  },
  {
   "cell_type": "code",
   "execution_count": null,
   "metadata": {},
   "outputs": [],
   "source": [
    "diseases_dict = {}\n",
    "for file in read_files_from_folder('Rare_Diseases'):\n",
    "    if file.endswith('.xml'):\n",
    "        diseases = parse_orphanet_xml('Rare_Diseases/' + file)\n",
    "        file_name = file.split('.')[0]\n",
    "        diseases_dict[file_name] = diseases\n"
   ]
  },
  {
   "cell_type": "markdown",
   "metadata": {},
   "source": [
    "--------------------------End Orphanet data------------------------------"
   ]
  },
  {
   "cell_type": "markdown",
   "metadata": {},
   "source": [
    "### Begin Pubmed Data fetch"
   ]
  },
  {
   "cell_type": "code",
   "execution_count": null,
   "metadata": {},
   "outputs": [],
   "source": [
    "EMAIL = 'abc@gmail.com'"
   ]
  },
  {
   "cell_type": "code",
   "execution_count": null,
   "metadata": {},
   "outputs": [],
   "source": [
    "def search_pubmed(query, max_results=10):\n",
    "    Entrez.email = EMAIL  # Always provide your email\n",
    "    query_with_filter = query + \" AND free full text[sb]\"  # Adding the free full text filter\n",
    "    handle = Entrez.esearch(db='pubmed', \n",
    "                            sort='relevance', \n",
    "                            retmax=max_results,\n",
    "                            retmode='xml', \n",
    "                            term=query_with_filter)\n",
    "    results = Entrez.read(handle)\n",
    "\n",
    "    if results['IdList'] == []:\n",
    "        handle = Entrez.esearch(db='pubmed', \n",
    "                            sort='relevance', \n",
    "                            retmax=max_results,\n",
    "                            retmode='xml', \n",
    "                            term=query)\n",
    "        \n",
    "        results = Entrez.read(handle)\n",
    "    return results['IdList']\n",
    "\n",
    "\n",
    "def fetch_pubmed_details(id_list):\n",
    "    Entrez.email = EMAIL \n",
    "    if len(id_list) == 0:\n",
    "        return None\n",
    "    ids = ','.join(id_list)\n",
    "    handle = Entrez.efetch(db='pubmed', id=ids, retmode='xml')\n",
    "    papers = Entrez.read(handle)\n",
    "    return papers"
   ]
  },
  {
   "cell_type": "code",
   "execution_count": null,
   "metadata": {},
   "outputs": [],
   "source": [
    "disease_articles = {}"
   ]
  },
  {
   "cell_type": "code",
   "execution_count": null,
   "metadata": {},
   "outputs": [],
   "source": [
    "all_diseases = set()\n",
    "for disease_name, diseases in diseases_dict.items():\n",
    "    for disease in diseases:\n",
    "        all_diseases.add(disease['name'])"
   ]
  },
  {
   "cell_type": "code",
   "execution_count": null,
   "metadata": {},
   "outputs": [],
   "source": [
    "for disease in all_diseases:\n",
    "    if disease in disease_articles and disease_articles[disease] != []:\n",
    "        continue    \n",
    "    query = f'{disease}'\n",
    "    disease_articles[disease] = search_pubmed(query, 50)"
   ]
  },
  {
   "cell_type": "code",
   "execution_count": null,
   "metadata": {},
   "outputs": [],
   "source": [
    "# logged on 8th Dec - 12:09 AM - json dumped at 12:10 AM\n",
    "with open('disease_articles.json', 'w') as f:\n",
    "    json.dump(disease_articles, f)\n"
   ]
  },
  {
   "cell_type": "code",
   "execution_count": null,
   "metadata": {},
   "outputs": [],
   "source": [
    "# load the json file for disease articles if present else create a new one\n",
    "with open('disease_articles.json', 'r') as f:\n",
    "    disease_articles = json.load(f)"
   ]
  },
  {
   "cell_type": "code",
   "execution_count": null,
   "metadata": {},
   "outputs": [],
   "source": [
    "papers_list = dict()"
   ]
  },
  {
   "cell_type": "code",
   "execution_count": null,
   "metadata": {},
   "outputs": [],
   "source": [
    "\n",
    "for disease, ids in tqdm(disease_articles.items()):\n",
    "    if disease in papers_list and papers_list[disease] != []:\n",
    "        continue\n",
    "    papers_list[disease] = fetch_pubmed_details(ids)\n",
    "    time.sleep(1)\n",
    "\n"
   ]
  },
  {
   "cell_type": "code",
   "execution_count": null,
   "metadata": {},
   "outputs": [],
   "source": [
    "disease_articles_new = {key: value for key, value in disease_articles.items() if value}\n",
    "len(disease_articles_new)"
   ]
  },
  {
   "cell_type": "code",
   "execution_count": null,
   "metadata": {},
   "outputs": [],
   "source": [
    "combined_data = list()\n",
    "\n",
    "def get_article_details(diseases_dict:dict, disease_articles:dict,combined_data:list):\n",
    "    for category, diseases in diseases_dict.items():\n",
    "        print(f\"Processing {category}...\")\n",
    "        if os.path.exists(f\"combined_data/{category}.json\"):\n",
    "            continue\n",
    "\n",
    "        for disease in tqdm(diseases):\n",
    "            disease_data = {\n",
    "                'name': disease['name'],\n",
    "                'orpha_code': disease['orpha_code'],\n",
    "                'articles': []\n",
    "            }\n",
    "            \n",
    "            if disease['name'] in disease_articles:\n",
    "                ids = disease_articles_new[disease['name']][:5]\n",
    "                papers = fetch_pubmed_details(ids)\n",
    "                time.sleep(0.5)\n",
    "                if papers:\n",
    "                    for paper in papers['PubmedArticle']:\n",
    "                        pmid = paper['MedlineCitation']['PMID'].title()\n",
    "                        # Extract necessary details from each paper\n",
    "                        article_data = paper['MedlineCitation']['Article']\n",
    "                        if article_data['ELocationID'] and article_data['ELocationID'][0].attributes['EIdType'] == 'doi':\n",
    "                            doi = article_data['ELocationID'][0].title()\n",
    "\n",
    "                        article_url = f\"https://doi.org/{doi}\" if doi else ''\n",
    "                        title = article_data['ArticleTitle']\n",
    "                        abstract = paper['MedlineCitation']['Article']['Abstract']['AbstractText'][0] if 'Abstract' in paper['MedlineCitation']['Article'] else ''\n",
    "                        disease_data['articles'].append({'PMID':pmid, 'title': title, 'abstract': abstract, 'article_url': article_url})\n",
    "\n",
    "            combined_data.append(disease_data)\n",
    "\n",
    "\n",
    "        # Create the \"combined_data\" folder if it doesn't exist\n",
    "        if not os.path.exists(\"combined_data\"):\n",
    "            os.makedirs(\"combined_data\")\n",
    "\n",
    "        # Dump the combined_data dictionary to a JSON file in the \"combined_data\" folder\n",
    "        with open(f\"combined_data/{category}.json\", \"w\") as f:\n",
    "            json.dump(combined_data, f)\n",
    "\n",
    "        combined_data.clear()\n",
    "\n"
   ]
  },
  {
   "cell_type": "code",
   "execution_count": null,
   "metadata": {},
   "outputs": [],
   "source": [
    "get_article_details(diseases_dict, disease_articles_new,combined_data)"
   ]
  },
  {
   "cell_type": "code",
   "execution_count": null,
   "metadata": {},
   "outputs": [],
   "source": [
    "def get_full_text_from_doi(doi_url):\n",
    "    # Use Selenium to handle JavaScript-enabled requests\n",
    "    options = webdriver.ChromeOptions()\n",
    "    options.add_argument('window-size=1920x1080')  # Set the window size\n",
    "    options.add_argument('user-agent=Mozilla/5.0 (Windows NT 10.0; Win64; x64) AppleWebKit/537.36 (KHTML, like Gecko) Chrome/90.0.4430.212 Safari/537.36')\n",
    "    options.add_argument('--headless')  # Run Chrome in headless mode\n",
    "    with webdriver.Chrome(options=options) as driver:\n",
    "        driver.get(doi_url)\n",
    "        time.sleep(2)\n",
    "        html = driver.page_source\n",
    "\n",
    "    # Parse the HTML using BeautifulSoup\n",
    "    soup = BeautifulSoup(html, 'html.parser')\n",
    "    article_tag = soup.find('article')\n",
    "    if article_tag:\n",
    "        article_text = article_tag.get_text()\n",
    "    else:\n",
    "        article_text = soup.get_text()\n",
    "\n",
    "    return article_text\n",
    "\n"
   ]
  },
  {
   "cell_type": "code",
   "execution_count": 2,
   "metadata": {},
   "outputs": [],
   "source": [
    "from bs4 import BeautifulSoup\n",
    "import re\n",
    "\n",
    "def clean_html(html_content):\n",
    "    # Parse the HTML content using BeautifulSoup\n",
    "    soup = BeautifulSoup(html_content, 'html.parser')\n",
    "    article_tag = soup.find('article')\n",
    " \n",
    "    # Remove script and style elements\n",
    "    for script_or_style in soup(['script', 'style']):\n",
    "        script_or_style.extract()\n",
    "\n",
    "    # Get text\n",
    "    text = ''\n",
    "    if article_tag:\n",
    "        text = article_tag.get_text()\n",
    "    else:\n",
    "        text = soup.get_text()\n",
    "\n",
    "    # Break into lines and remove leading and trailing space on each\n",
    "    lines = (line.strip() for line in text.splitlines())\n",
    "\n",
    "    # Break multi-headlines into a line each\n",
    "    chunks = (phrase.strip() for line in lines for phrase in line.split(\"  \"))\n",
    "\n",
    "    # Drop blank lines and remove non-ascii characters\n",
    "    text = '\\n'.join(chunk for chunk in chunks if chunk)\n",
    "    text = re.sub(r'[^\\x00-\\x7F]+', ' ', text)\n",
    "\n",
    "    return text\n"
   ]
  },
  {
   "cell_type": "code",
   "execution_count": 3,
   "metadata": {},
   "outputs": [],
   "source": [
    "options = webdriver.ChromeOptions()\n",
    "options.add_argument('window-size=1920x1080')  # Set the window size\n",
    "options.add_argument('user-agent=Mozilla/5.0 (Windows NT 10.0; Win64; x64) AppleWebKit/537.36 (KHTML, like Gecko) Chrome/90.0.4430.212 Safari/537.36')\n",
    "options.add_argument('--headless')  # Run Chrome in headless mode"
   ]
  },
  {
   "cell_type": "code",
   "execution_count": null,
   "metadata": {},
   "outputs": [],
   "source": [
    "combined_data_folder = 'combined_data'\n",
    "for file_name in (os.listdir(combined_data_folder)):\n",
    "    print(f\"Processing {file_name}...\")\n",
    "    if os.path.exists(f\"final_data/{file_name}\"):\n",
    "        continue\n",
    "    file_path = os.path.join(combined_data_folder, file_name)\n",
    "    with open(file_path, 'r') as f:\n",
    "        final_data = json.load(f)\n",
    "        # Process the data here\n",
    "        with webdriver.Chrome(options=options) as driver:\n",
    "            for data in tqdm(final_data[:250]):\n",
    "                for article in data['articles']:\n",
    "                    if 'full_text' in article:\n",
    "                        continue\n",
    "                    if article['article_url']:\n",
    "                        driver.get(article['article_url'])\n",
    "                        time.sleep(4)\n",
    "                        html = driver.page_source\n",
    "                        # Parse the HTML using BeautifulSoup\n",
    "                        article_text = clean_html(html)\n",
    "                        article['full_text'] = article_text        # Add the loaded file to the list\n",
    "\n",
    "         \n",
    "        # Create the \"final_data\" folder if it doesn't exist\n",
    "        if not os.path.exists(\"final_data\"):\n",
    "            os.makedirs(\"final_data\")\n",
    "\n",
    "        # Dump the combined_data dictionary to a JSON file in the \"final_data\" folder\n",
    "        with open(f\"final_data/{file_name}\", \"w\") as f:\n",
    "            json.dump(final_data, f)  \n",
    "\n",
    "        final_data = []\n",
    "    "
   ]
  },
  {
   "cell_type": "markdown",
   "metadata": {},
   "source": [
    "## Data processing and cleaning "
   ]
  },
  {
   "cell_type": "code",
   "execution_count": 1,
   "metadata": {},
   "outputs": [
    {
     "name": "stderr",
     "output_type": "stream",
     "text": [
      "[nltk_data] Downloading package stopwords to\n",
      "[nltk_data]     /Users/chintanaddoni/nltk_data...\n",
      "[nltk_data]   Package stopwords is already up-to-date!\n"
     ]
    }
   ],
   "source": [
    "import pandas as pd\n",
    "import nltk\n",
    "nltk.download('stopwords')\n",
    "import re\n",
    "from nltk.tokenize import word_tokenize, sent_tokenize\n",
    "from nltk.corpus import stopwords\n",
    "from nltk.stem import PorterStemmer"
   ]
  },
  {
   "cell_type": "code",
   "execution_count": 13,
   "metadata": {},
   "outputs": [],
   "source": [
    "\n",
    "final_data_folder = 'final_data'\n",
    "combined_data_df = []\n",
    "df = pd.DataFrame(columns=['name', 'orpha_code', 'PMID', 'title', 'abstract', 'article_url', 'full_text'])\n",
    "\n",
    "for file_name in os.listdir(final_data_folder):\n",
    "    file_path = os.path.join(final_data_folder, file_name)\n",
    "    with open(file_path, 'r') as f:\n",
    "        data = json.load(f)\n",
    "        combined_data_df = []\n",
    "        for disease_data in data:\n",
    "            name = disease_data['name']\n",
    "            orpha_code = disease_data['orpha_code']\n",
    "            articles = disease_data['articles']\n",
    "            for article in articles:\n",
    "                if 'full_text' in article: \n",
    "                    if len(article['full_text']) < 1000:\n",
    "                        article['full_text'] = article['abstract']\n",
    "                    combined_data_df.append([name, orpha_code, article['PMID'], article['title'], article['abstract'], article['article_url'], article['full_text']])\n",
    "                else:\n",
    "                    article['full_text'] = article['abstract']\n",
    "                    combined_data_df.append([name, orpha_code, article['PMID'], article['title'], article['abstract'], article['article_url'], article['full_text']])\n",
    "\n",
    "    # Append combined_data_df to df using pd.concat()\n",
    "    df = pd.concat([df, pd.DataFrame(combined_data_df, columns=df.columns)], ignore_index=True)\n",
    "    df.drop_duplicates(subset = df.columns.difference(['full_text', 'article_url']),inplace=True)\n",
    "\n",
    "\n"
   ]
  },
  {
   "cell_type": "code",
   "execution_count": 16,
   "metadata": {},
   "outputs": [
    {
     "data": {
      "text/plain": [
       "(27507, 7)"
      ]
     },
     "execution_count": 16,
     "metadata": {},
     "output_type": "execute_result"
    }
   ],
   "source": [
    "df.shape"
   ]
  },
  {
   "cell_type": "code",
   "execution_count": 17,
   "metadata": {},
   "outputs": [
    {
     "data": {
      "text/html": [
       "<div>\n",
       "<style scoped>\n",
       "    .dataframe tbody tr th:only-of-type {\n",
       "        vertical-align: middle;\n",
       "    }\n",
       "\n",
       "    .dataframe tbody tr th {\n",
       "        vertical-align: top;\n",
       "    }\n",
       "\n",
       "    .dataframe thead th {\n",
       "        text-align: right;\n",
       "    }\n",
       "</style>\n",
       "<table border=\"1\" class=\"dataframe\">\n",
       "  <thead>\n",
       "    <tr style=\"text-align: right;\">\n",
       "      <th></th>\n",
       "      <th>name</th>\n",
       "      <th>orpha_code</th>\n",
       "      <th>PMID</th>\n",
       "      <th>title</th>\n",
       "      <th>abstract</th>\n",
       "      <th>article_url</th>\n",
       "      <th>full_text</th>\n",
       "    </tr>\n",
       "  </thead>\n",
       "  <tbody>\n",
       "    <tr>\n",
       "      <th>0</th>\n",
       "      <td>Rare teratologic disease</td>\n",
       "      <td>52662</td>\n",
       "      <td>33745447</td>\n",
       "      <td>Diagnostic precision and identification of rar...</td>\n",
       "      <td>Diagnostic precision and the identification of...</td>\n",
       "      <td>https://doi.org/10.1002/Jimd.12306</td>\n",
       "      <td>Journal of Inherited Metabolic DiseaseVolume 4...</td>\n",
       "    </tr>\n",
       "    <tr>\n",
       "      <th>1</th>\n",
       "      <td>Rare teratologic disease</td>\n",
       "      <td>52662</td>\n",
       "      <td>36401554</td>\n",
       "      <td>Prevalence and mortality among children with a...</td>\n",
       "      <td>We examined the total prevalence, trends in pr...</td>\n",
       "      <td>https://doi.org/10.1002/Bdr2.2129</td>\n",
       "      <td>We examined the total prevalence, trends in pr...</td>\n",
       "    </tr>\n",
       "    <tr>\n",
       "      <th>2</th>\n",
       "      <td>Rare teratologic disease</td>\n",
       "      <td>52662</td>\n",
       "      <td>27126916</td>\n",
       "      <td>Frederik Ruysch (1638-1731): Historical perspe...</td>\n",
       "      <td>The Peter the Great Museum of Anthropology and...</td>\n",
       "      <td>https://doi.org/10.1002/Ajmg.A.37663</td>\n",
       "      <td>The Peter the Great Museum of Anthropology and...</td>\n",
       "    </tr>\n",
       "    <tr>\n",
       "      <th>3</th>\n",
       "      <td>Rare teratologic disease</td>\n",
       "      <td>52662</td>\n",
       "      <td>35644130</td>\n",
       "      <td>A Multicountry Analysis of Prevalence and Mort...</td>\n",
       "      <td>Bladder exstrophy (BE) is a rare but severe b...</td>\n",
       "      <td>https://doi.org/10.1055/S-0042-1748318</td>\n",
       "      <td>Subscribe to RSS\\nPlease copy the URL and add ...</td>\n",
       "    </tr>\n",
       "    <tr>\n",
       "      <th>4</th>\n",
       "      <td>Rare teratologic disease</td>\n",
       "      <td>52662</td>\n",
       "      <td>33253899</td>\n",
       "      <td>Prevalence and mortality in children with cong...</td>\n",
       "      <td>This study determined the prevalence, mortalit...</td>\n",
       "      <td>https://doi.org/10.1016/J.Annepidem.2020.11.007</td>\n",
       "      <td>Annals of EpidemiologyVolume 56, April 2021, P...</td>\n",
       "    </tr>\n",
       "  </tbody>\n",
       "</table>\n",
       "</div>"
      ],
      "text/plain": [
       "                       name orpha_code      PMID  \\\n",
       "0  Rare teratologic disease      52662  33745447   \n",
       "1  Rare teratologic disease      52662  36401554   \n",
       "2  Rare teratologic disease      52662  27126916   \n",
       "3  Rare teratologic disease      52662  35644130   \n",
       "4  Rare teratologic disease      52662  33253899   \n",
       "\n",
       "                                               title  \\\n",
       "0  Diagnostic precision and identification of rar...   \n",
       "1  Prevalence and mortality among children with a...   \n",
       "2  Frederik Ruysch (1638-1731): Historical perspe...   \n",
       "3  A Multicountry Analysis of Prevalence and Mort...   \n",
       "4  Prevalence and mortality in children with cong...   \n",
       "\n",
       "                                            abstract  \\\n",
       "0  Diagnostic precision and the identification of...   \n",
       "1  We examined the total prevalence, trends in pr...   \n",
       "2  The Peter the Great Museum of Anthropology and...   \n",
       "3   Bladder exstrophy (BE) is a rare but severe b...   \n",
       "4  This study determined the prevalence, mortalit...   \n",
       "\n",
       "                                       article_url  \\\n",
       "0               https://doi.org/10.1002/Jimd.12306   \n",
       "1                https://doi.org/10.1002/Bdr2.2129   \n",
       "2             https://doi.org/10.1002/Ajmg.A.37663   \n",
       "3           https://doi.org/10.1055/S-0042-1748318   \n",
       "4  https://doi.org/10.1016/J.Annepidem.2020.11.007   \n",
       "\n",
       "                                           full_text  \n",
       "0  Journal of Inherited Metabolic DiseaseVolume 4...  \n",
       "1  We examined the total prevalence, trends in pr...  \n",
       "2  The Peter the Great Museum of Anthropology and...  \n",
       "3  Subscribe to RSS\\nPlease copy the URL and add ...  \n",
       "4  Annals of EpidemiologyVolume 56, April 2021, P...  "
      ]
     },
     "execution_count": 17,
     "metadata": {},
     "output_type": "execute_result"
    }
   ],
   "source": [
    "df.head()"
   ]
  },
  {
   "cell_type": "code",
   "execution_count": 18,
   "metadata": {},
   "outputs": [],
   "source": [
    "\n",
    "# Set of English stopwords\n",
    "stop_words = set(stopwords.words('english'))\n",
    "\n",
    "def remove_citations(text):\n",
    "    # Remove citations references (e.g., [1], [1,2], [1-3])\n",
    "    text = re.sub(r'\\[\\d+(,\\s?\\d+)*(\\s?-\\s?\\d+)?\\]', '', text)\n",
    "    # Remove URLs\n",
    "    text = re.sub(r'http\\S+|www\\S+', '', text)\n",
    "    return text\n",
    " \n",
    "\n",
    "def remove_references_section(text):\n",
    "    # Naive approach to remove references section\n",
    "    text = re.sub(r'\\b(references|bibliography)\\b.*', '', text, flags=re.IGNORECASE | re.DOTALL)\n",
    "    return text\n",
    "\n",
    "def tokenize_and_clean(text):\n",
    "    # Tokenize into words\n",
    "    words = word_tokenize(text)\n",
    "\n",
    "    # Remove stopwords and non-alphabetic words\n",
    "    words = [word.lower() for word in words if word.isalpha() and word.lower() not in stop_words]\n",
    "\n",
    "    # # add stemming\n",
    "    # stemmer = PorterStemmer()\n",
    "    # words = [stemmer.stem(word) for word in words]\n",
    "\n",
    "    return words\n",
    "\n",
    "def preprocess_text(text):\n",
    "    text = remove_citations(text)\n",
    "    text = remove_references_section(text)\n",
    "    words = tokenize_and_clean(text)\n",
    "    return ' '.join(words)\n"
   ]
  },
  {
   "cell_type": "code",
   "execution_count": 19,
   "metadata": {},
   "outputs": [],
   "source": [
    "df['cleaned_text'] = df['full_text'].apply(preprocess_text)"
   ]
  },
  {
   "cell_type": "code",
   "execution_count": 20,
   "metadata": {},
   "outputs": [],
   "source": [
    "df.to_json('final_data_cleaned.json', orient='records')"
   ]
  },
  {
   "cell_type": "markdown",
   "metadata": {},
   "source": [
    "## Run from here to test the model with the processed data using above code. (Do run the above cells to import packages)"
   ]
  },
  {
   "cell_type": "code",
   "execution_count": 50,
   "metadata": {},
   "outputs": [],
   "source": [
    "df = pd.read_json('final_data_cleaned.json')"
   ]
  },
  {
   "cell_type": "code",
   "execution_count": 21,
   "metadata": {},
   "outputs": [
    {
     "data": {
      "text/html": [
       "<div>\n",
       "<style scoped>\n",
       "    .dataframe tbody tr th:only-of-type {\n",
       "        vertical-align: middle;\n",
       "    }\n",
       "\n",
       "    .dataframe tbody tr th {\n",
       "        vertical-align: top;\n",
       "    }\n",
       "\n",
       "    .dataframe thead th {\n",
       "        text-align: right;\n",
       "    }\n",
       "</style>\n",
       "<table border=\"1\" class=\"dataframe\">\n",
       "  <thead>\n",
       "    <tr style=\"text-align: right;\">\n",
       "      <th></th>\n",
       "      <th>name</th>\n",
       "      <th>orpha_code</th>\n",
       "      <th>PMID</th>\n",
       "      <th>title</th>\n",
       "      <th>abstract</th>\n",
       "      <th>article_url</th>\n",
       "      <th>full_text</th>\n",
       "      <th>cleaned_text</th>\n",
       "    </tr>\n",
       "  </thead>\n",
       "  <tbody>\n",
       "    <tr>\n",
       "      <th>0</th>\n",
       "      <td>Rare teratologic disease</td>\n",
       "      <td>52662</td>\n",
       "      <td>33745447</td>\n",
       "      <td>Diagnostic precision and identification of rar...</td>\n",
       "      <td>Diagnostic precision and the identification of...</td>\n",
       "      <td>https://doi.org/10.1002/Jimd.12306</td>\n",
       "      <td>Journal of Inherited Metabolic DiseaseVolume 4...</td>\n",
       "      <td>journal inherited metabolic diseasevolume issu...</td>\n",
       "    </tr>\n",
       "    <tr>\n",
       "      <th>1</th>\n",
       "      <td>Rare teratologic disease</td>\n",
       "      <td>52662</td>\n",
       "      <td>36401554</td>\n",
       "      <td>Prevalence and mortality among children with a...</td>\n",
       "      <td>We examined the total prevalence, trends in pr...</td>\n",
       "      <td>https://doi.org/10.1002/Bdr2.2129</td>\n",
       "      <td>We examined the total prevalence, trends in pr...</td>\n",
       "      <td>examined total prevalence trends prevalence mo...</td>\n",
       "    </tr>\n",
       "    <tr>\n",
       "      <th>2</th>\n",
       "      <td>Rare teratologic disease</td>\n",
       "      <td>52662</td>\n",
       "      <td>27126916</td>\n",
       "      <td>Frederik Ruysch (1638-1731): Historical perspe...</td>\n",
       "      <td>The Peter the Great Museum of Anthropology and...</td>\n",
       "      <td>https://doi.org/10.1002/Ajmg.A.37663</td>\n",
       "      <td>The Peter the Great Museum of Anthropology and...</td>\n",
       "      <td>peter great museum anthropology ethnography ku...</td>\n",
       "    </tr>\n",
       "    <tr>\n",
       "      <th>3</th>\n",
       "      <td>Rare teratologic disease</td>\n",
       "      <td>52662</td>\n",
       "      <td>35644130</td>\n",
       "      <td>A Multicountry Analysis of Prevalence and Mort...</td>\n",
       "      <td>Bladder exstrophy (BE) is a rare but severe b...</td>\n",
       "      <td>https://doi.org/10.1055/S-0042-1748318</td>\n",
       "      <td>Subscribe to RSS\\nPlease copy the URL and add ...</td>\n",
       "      <td>subscribe rss please copy url add rss feed rea...</td>\n",
       "    </tr>\n",
       "    <tr>\n",
       "      <th>4</th>\n",
       "      <td>Rare teratologic disease</td>\n",
       "      <td>52662</td>\n",
       "      <td>33253899</td>\n",
       "      <td>Prevalence and mortality in children with cong...</td>\n",
       "      <td>This study determined the prevalence, mortalit...</td>\n",
       "      <td>https://doi.org/10.1016/J.Annepidem.2020.11.007</td>\n",
       "      <td>Annals of EpidemiologyVolume 56, April 2021, P...</td>\n",
       "      <td>annals epidemiologyvolume april pages articlep...</td>\n",
       "    </tr>\n",
       "  </tbody>\n",
       "</table>\n",
       "</div>"
      ],
      "text/plain": [
       "                       name orpha_code      PMID  \\\n",
       "0  Rare teratologic disease      52662  33745447   \n",
       "1  Rare teratologic disease      52662  36401554   \n",
       "2  Rare teratologic disease      52662  27126916   \n",
       "3  Rare teratologic disease      52662  35644130   \n",
       "4  Rare teratologic disease      52662  33253899   \n",
       "\n",
       "                                               title  \\\n",
       "0  Diagnostic precision and identification of rar...   \n",
       "1  Prevalence and mortality among children with a...   \n",
       "2  Frederik Ruysch (1638-1731): Historical perspe...   \n",
       "3  A Multicountry Analysis of Prevalence and Mort...   \n",
       "4  Prevalence and mortality in children with cong...   \n",
       "\n",
       "                                            abstract  \\\n",
       "0  Diagnostic precision and the identification of...   \n",
       "1  We examined the total prevalence, trends in pr...   \n",
       "2  The Peter the Great Museum of Anthropology and...   \n",
       "3   Bladder exstrophy (BE) is a rare but severe b...   \n",
       "4  This study determined the prevalence, mortalit...   \n",
       "\n",
       "                                       article_url  \\\n",
       "0               https://doi.org/10.1002/Jimd.12306   \n",
       "1                https://doi.org/10.1002/Bdr2.2129   \n",
       "2             https://doi.org/10.1002/Ajmg.A.37663   \n",
       "3           https://doi.org/10.1055/S-0042-1748318   \n",
       "4  https://doi.org/10.1016/J.Annepidem.2020.11.007   \n",
       "\n",
       "                                           full_text  \\\n",
       "0  Journal of Inherited Metabolic DiseaseVolume 4...   \n",
       "1  We examined the total prevalence, trends in pr...   \n",
       "2  The Peter the Great Museum of Anthropology and...   \n",
       "3  Subscribe to RSS\\nPlease copy the URL and add ...   \n",
       "4  Annals of EpidemiologyVolume 56, April 2021, P...   \n",
       "\n",
       "                                        cleaned_text  \n",
       "0  journal inherited metabolic diseasevolume issu...  \n",
       "1  examined total prevalence trends prevalence mo...  \n",
       "2  peter great museum anthropology ethnography ku...  \n",
       "3  subscribe rss please copy url add rss feed rea...  \n",
       "4  annals epidemiologyvolume april pages articlep...  "
      ]
     },
     "execution_count": 21,
     "metadata": {},
     "output_type": "execute_result"
    }
   ],
   "source": [
    "df.head()"
   ]
  },
  {
   "cell_type": "code",
   "execution_count": 23,
   "metadata": {},
   "outputs": [],
   "source": [
    "from sklearn.feature_extraction.text import TfidfVectorizer\n",
    "from sklearn.metrics.pairwise import cosine_similarity\n",
    "import numpy as np\n",
    "from sumy.parsers.plaintext import PlaintextParser\n",
    "from sumy.nlp.tokenizers import Tokenizer\n",
    "from sumy.summarizers.lex_rank import LexRankSummarizer"
   ]
  },
  {
   "cell_type": "code",
   "execution_count": 25,
   "metadata": {},
   "outputs": [],
   "source": [
    "\n",
    "\n",
    "# Assuming 'preprocessed_texts' is a list of your preprocessed documents\n",
    "vectorizer = TfidfVectorizer()\n",
    "preprocessed_texts = df['cleaned_text'].values\n",
    "tfidf_matrix = vectorizer.fit_transform(preprocessed_texts)\n",
    "\n",
    "def find_unique_relevant_documents(query, tfidf_matrix, top_n=5):\n",
    "    query_vector = vectorizer.transform([query])\n",
    "    cosine_similarities = cosine_similarity(query_vector, tfidf_matrix).flatten()\n",
    "    \n",
    "    # Use argsort for indices and then unique to filter out duplicates\n",
    "    unique_indices = np.unique(cosine_similarities.argsort()[::-1], return_index=True)[1]\n",
    "    \n",
    "    # Sort unique indices based on original similarity scores\n",
    "    sorted_unique_indices = unique_indices[np.argsort(-cosine_similarities[unique_indices])]\n",
    "\n",
    "    # Select top_n indices\n",
    "    relevant_indices = sorted_unique_indices[:top_n]\n",
    "\n",
    "    return relevant_indices, cosine_similarities[relevant_indices]\n",
    "\n",
    "\n",
    "def summarize(text, language=\"english\", sentences_count = 6):\n",
    "    parser = PlaintextParser.from_string(text, Tokenizer(language))\n",
    "    summarizer = LexRankSummarizer()\n",
    "    summary = summarizer(parser.document, sentences_count)\n",
    "    return ' '.join([str(sentence) for sentence in summary])\n"
   ]
  },
  {
   "cell_type": "code",
   "execution_count": 73,
   "metadata": {},
   "outputs": [],
   "source": [
    "def search_documents(query, df = df, tfidf_matrix = tfidf_matrix, top_n=5, summary_sentences=5):\n",
    "    relevant_indices, relevance_scores = find_unique_relevant_documents(query, tfidf_matrix, top_n)\n",
    "    relevant_docs = df.iloc[relevant_indices]\n",
    "    relevant_docs['relevance_score'] = relevance_scores\n",
    "    \n",
    "    # Keep only the rows with unique PMIDs\n",
    "    relevant_docs = relevant_docs.drop_duplicates(subset='PMID', ignore_index=True)\n",
    "    \n",
    "    # Combine all the full_text\n",
    "    combined_text = ' '.join(relevant_docs['full_text'].tolist())\n",
    "    \n",
    "    # Generate summary of the combined text\n",
    "    # summary = summarize(combined_text, sentences_count=summary_sentences)\n",
    "    summary = summarize(combined_text)\n",
    "    \n",
    "    return relevant_docs, summary\n"
   ]
  },
  {
   "cell_type": "code",
   "execution_count": 74,
   "metadata": {},
   "outputs": [],
   "source": [
    "from transformers import AutoTokenizer, AutoModelWithLMHead\n",
    "\n",
    "def summarize(text, max_length=130):\n",
    "    \"\"\"\n",
    "    Summarizes the given text to about 5 sentences.\n",
    "\n",
    "    Args:\n",
    "    text (str): The text to be summarized.\n",
    "    max_length (int): The maximum length of the summary (in tokens).\n",
    "\n",
    "    Returns:\n",
    "    str: The summarized text.\n",
    "    \"\"\"\n",
    "    # Load model and tokenizer for 'facebook/bart-large-cnn'\n",
    "    tokenizer = AutoTokenizer.from_pretrained('t5-base')\n",
    "    model = AutoModelWithLMHead.from_pretrained('t5-base', return_dict=True)\n",
    "\n",
    "    # Tokenize and encode the text\n",
    "    inputs = tokenizer.encode(\"summarize: \" + text, return_tensors=\"pt\", max_length=1024, truncation=True)\n",
    "\n",
    "    # Generate summary\n",
    "    summary_ids = model.generate(inputs, max_length=max_length, min_length=100, length_penalty=2.0, num_beams=4, early_stopping=True)\n",
    "    summary = tokenizer.decode(summary_ids[0], skip_special_tokens=True)\n",
    "\n",
    "    return summary"
   ]
  },
  {
   "cell_type": "code",
   "execution_count": 35,
   "metadata": {},
   "outputs": [],
   "source": [
    "import warnings\n",
    "# Ignore warnings\n",
    "warnings.filterwarnings(\"ignore\")"
   ]
  },
  {
   "cell_type": "code",
   "execution_count": 83,
   "metadata": {},
   "outputs": [
    {
     "name": "stdout",
     "output_type": "stream",
     "text": [
      "Query: Case studies of rare dermatological disorders in adults\n",
      "Summary:\n"
     ]
    },
    {
     "data": {
      "text/plain": [
       "'taxanes and paclitaxel are among the most commonly prescribed anticancer drugs. dermatological adverse events (AEs) in patients receiving taxanes are not known. a thorough understanding of reactions attributable to taxanes is imperative. dermatological AEs are critical for maintaining quality of life in cancer patients, authors say. nab-paclitaxel has been FDA- and EMA-approved, solvent-free.'"
      ]
     },
     "metadata": {},
     "output_type": "display_data"
    },
    {
     "name": "stdout",
     "output_type": "stream",
     "text": [
      "Relevant Documents:\n"
     ]
    },
    {
     "data": {
      "text/html": [
       "<div>\n",
       "<style scoped>\n",
       "    .dataframe tbody tr th:only-of-type {\n",
       "        vertical-align: middle;\n",
       "    }\n",
       "\n",
       "    .dataframe tbody tr th {\n",
       "        vertical-align: top;\n",
       "    }\n",
       "\n",
       "    .dataframe thead th {\n",
       "        text-align: right;\n",
       "    }\n",
       "</style>\n",
       "<table border=\"1\" class=\"dataframe\">\n",
       "  <thead>\n",
       "    <tr style=\"text-align: right;\">\n",
       "      <th></th>\n",
       "      <th>PMID</th>\n",
       "      <th>title</th>\n",
       "      <th>article_url</th>\n",
       "      <th>relevance_score</th>\n",
       "    </tr>\n",
       "  </thead>\n",
       "  <tbody>\n",
       "    <tr>\n",
       "      <th>0</th>\n",
       "      <td>27550571</td>\n",
       "      <td>Dermatological adverse events with taxane chem...</td>\n",
       "      <td>https://doi.org/10.4103/Ijdvl.Ijdvl_33_18</td>\n",
       "      <td>0.263943</td>\n",
       "    </tr>\n",
       "    <tr>\n",
       "      <th>1</th>\n",
       "      <td>20805973</td>\n",
       "      <td>Neurodegenerative disorders with hair abnormal...</td>\n",
       "      <td>https://doi.org/10.4103/0974-7753.51929</td>\n",
       "      <td>0.186228</td>\n",
       "    </tr>\n",
       "    <tr>\n",
       "      <th>2</th>\n",
       "      <td>33331597</td>\n",
       "      <td>INVERSE KLIPPEL-TRENAUNAY SYNDROME.</td>\n",
       "      <td>https://doi.org/10.2169/Internalmedicine.0251-22</td>\n",
       "      <td>0.176360</td>\n",
       "    </tr>\n",
       "  </tbody>\n",
       "</table>\n",
       "</div>"
      ],
      "text/plain": [
       "       PMID                                              title  \\\n",
       "0  27550571  Dermatological adverse events with taxane chem...   \n",
       "1  20805973  Neurodegenerative disorders with hair abnormal...   \n",
       "2  33331597                INVERSE KLIPPEL-TRENAUNAY SYNDROME.   \n",
       "\n",
       "                                        article_url  relevance_score  \n",
       "0         https://doi.org/10.4103/Ijdvl.Ijdvl_33_18         0.263943  \n",
       "1           https://doi.org/10.4103/0974-7753.51929         0.186228  \n",
       "2  https://doi.org/10.2169/Internalmedicine.0251-22         0.176360  "
      ]
     },
     "metadata": {},
     "output_type": "display_data"
    }
   ],
   "source": [
    "query = \"Case studies of rare dermatological disorders in adults\"\n",
    "relevant_docs, summary = search_documents(query)\n",
    "print(f\"Query: {query}\")\n",
    "print(f\"Summary:\")\n",
    "display(summary)\n",
    "print(f\"Relevant Documents:\")\n",
    "display(relevant_docs[['PMID', 'title','article_url','relevance_score']])"
   ]
  },
  {
   "cell_type": "code",
   "execution_count": 78,
   "metadata": {},
   "outputs": [
    {
     "name": "stdout",
     "output_type": "stream",
     "text": [
      "Query: Role of immunotherapy in treating rare endocrine disorders\n",
      "Summary:\n"
     ]
    },
    {
     "data": {
      "text/plain": [
       "'the therapeutic landscape for non-melanoma skin cancer has expanded with the development of effective and targeted immunotherapy. in this review, we discuss relevant ophthalmic findings associated with key disorders of the pancreas, thyroid gland, and hypothalamic-pituitary axis. diabetes mellitus (DM) is the leading cause of blindness among adults under 75 years of age. ophthalmic retinopathy (DR) has significant predictive value for cardiovascular disease and mortality in patients with'"
      ]
     },
     "metadata": {},
     "output_type": "display_data"
    },
    {
     "name": "stdout",
     "output_type": "stream",
     "text": [
      "Relevant Documents:\n"
     ]
    },
    {
     "data": {
      "text/html": [
       "<div>\n",
       "<style scoped>\n",
       "    .dataframe tbody tr th:only-of-type {\n",
       "        vertical-align: middle;\n",
       "    }\n",
       "\n",
       "    .dataframe tbody tr th {\n",
       "        vertical-align: top;\n",
       "    }\n",
       "\n",
       "    .dataframe thead th {\n",
       "        text-align: right;\n",
       "    }\n",
       "</style>\n",
       "<table border=\"1\" class=\"dataframe\">\n",
       "  <thead>\n",
       "    <tr style=\"text-align: right;\">\n",
       "      <th></th>\n",
       "      <th>PMID</th>\n",
       "      <th>title</th>\n",
       "      <th>article_url</th>\n",
       "      <th>relevance_score</th>\n",
       "    </tr>\n",
       "  </thead>\n",
       "  <tbody>\n",
       "    <tr>\n",
       "      <th>0</th>\n",
       "      <td>34448958</td>\n",
       "      <td>Immunotherapy for Non-melanoma Skin Cancer.</td>\n",
       "      <td>https://doi.org/10.2340/00015555-0359</td>\n",
       "      <td>0.345397</td>\n",
       "    </tr>\n",
       "    <tr>\n",
       "      <th>1</th>\n",
       "      <td>29184811</td>\n",
       "      <td>Dermatologic manifestations of endocrine disor...</td>\n",
       "      <td>https://doi.org/10.21037/Tp.2017.09.08</td>\n",
       "      <td>0.271060</td>\n",
       "    </tr>\n",
       "    <tr>\n",
       "      <th>2</th>\n",
       "      <td>31687637</td>\n",
       "      <td>The Natural History of a Man With Ovotesticula...</td>\n",
       "      <td>https://doi.org/10.1210/Js.2019-00241</td>\n",
       "      <td>0.250915</td>\n",
       "    </tr>\n",
       "    <tr>\n",
       "      <th>3</th>\n",
       "      <td>36613725</td>\n",
       "      <td>Childhood Hypophosphatasia Associated with a N...</td>\n",
       "      <td>https://doi.org/10.1210/Js.2017-00307</td>\n",
       "      <td>0.250636</td>\n",
       "    </tr>\n",
       "    <tr>\n",
       "      <th>4</th>\n",
       "      <td>34884378</td>\n",
       "      <td>Hypophosphatasia.</td>\n",
       "      <td>https://doi.org/10.1210/Js.2017-00307</td>\n",
       "      <td>0.250636</td>\n",
       "    </tr>\n",
       "  </tbody>\n",
       "</table>\n",
       "</div>"
      ],
      "text/plain": [
       "       PMID                                              title  \\\n",
       "0  34448958        Immunotherapy for Non-melanoma Skin Cancer.   \n",
       "1  29184811  Dermatologic manifestations of endocrine disor...   \n",
       "2  31687637  The Natural History of a Man With Ovotesticula...   \n",
       "3  36613725  Childhood Hypophosphatasia Associated with a N...   \n",
       "4  34884378                                  Hypophosphatasia.   \n",
       "\n",
       "                              article_url  relevance_score  \n",
       "0   https://doi.org/10.2340/00015555-0359         0.345397  \n",
       "1  https://doi.org/10.21037/Tp.2017.09.08         0.271060  \n",
       "2   https://doi.org/10.1210/Js.2019-00241         0.250915  \n",
       "3   https://doi.org/10.1210/Js.2017-00307         0.250636  \n",
       "4   https://doi.org/10.1210/Js.2017-00307         0.250636  "
      ]
     },
     "metadata": {},
     "output_type": "display_data"
    }
   ],
   "source": [
    "query = \"Role of immunotherapy in treating rare endocrine disorders\"\n",
    "relevant_docs, summary = search_documents(query)\n",
    "print(f\"Query: {query}\")\n",
    "print(f\"Summary:\")\n",
    "display(summary)\n",
    "print(f\"Relevant Documents:\")\n",
    "display(relevant_docs[['PMID', 'title','article_url','relevance_score']])"
   ]
  },
  {
   "cell_type": "code",
   "execution_count": 82,
   "metadata": {},
   "outputs": [
    {
     "name": "stdout",
     "output_type": "stream",
     "text": [
      "Query: Neurological complications in rare genetic disorders\n",
      "Summary:\n"
     ]
    },
    {
     "data": {
      "text/plain": [
       "'neurological channelopathies are inherited in an autosomal dominant fashion. they can cause paroxysmal disturbances of neurological function. an accurate diagnosis is important as it has genetic counselling and often treatment implications. the study of less common ion channel mutation-related diseases has increased our understanding of pathomechanisms that is relevant to common neurological diseases such as migraine and epilepsy. a randomized controlled trial has been conducted to determine if channelopathies are related to migraine or epilepsy.'"
      ]
     },
     "metadata": {},
     "output_type": "display_data"
    },
    {
     "name": "stdout",
     "output_type": "stream",
     "text": [
      "Relevant Documents:\n"
     ]
    },
    {
     "data": {
      "text/html": [
       "<div>\n",
       "<style scoped>\n",
       "    .dataframe tbody tr th:only-of-type {\n",
       "        vertical-align: middle;\n",
       "    }\n",
       "\n",
       "    .dataframe tbody tr th {\n",
       "        vertical-align: top;\n",
       "    }\n",
       "\n",
       "    .dataframe thead th {\n",
       "        text-align: right;\n",
       "    }\n",
       "</style>\n",
       "<table border=\"1\" class=\"dataframe\">\n",
       "  <thead>\n",
       "    <tr style=\"text-align: right;\">\n",
       "      <th></th>\n",
       "      <th>PMID</th>\n",
       "      <th>title</th>\n",
       "      <th>article_url</th>\n",
       "      <th>relevance_score</th>\n",
       "    </tr>\n",
       "  </thead>\n",
       "  <tbody>\n",
       "    <tr>\n",
       "      <th>0</th>\n",
       "      <td>26558925</td>\n",
       "      <td>Genetic neurological channelopathies: molecula...</td>\n",
       "      <td>https://doi.org/10.1136/Jnnp-2015-311233</td>\n",
       "      <td>0.367813</td>\n",
       "    </tr>\n",
       "    <tr>\n",
       "      <th>1</th>\n",
       "      <td>16642457</td>\n",
       "      <td>[Paroxysmal neurogenetic and neurometabolic di...</td>\n",
       "      <td>https://doi.org/10.1002/Mds.26901</td>\n",
       "      <td>0.286806</td>\n",
       "    </tr>\n",
       "    <tr>\n",
       "      <th>2</th>\n",
       "      <td>30356991</td>\n",
       "      <td>Neurological health and premature ovarian insu...</td>\n",
       "      <td>https://doi.org/10.5114/Pm.2018.78555</td>\n",
       "      <td>0.260685</td>\n",
       "    </tr>\n",
       "    <tr>\n",
       "      <th>3</th>\n",
       "      <td>29930110</td>\n",
       "      <td>Analysis of shared heritability in common diso...</td>\n",
       "      <td>https://doi.org/10.1038/S41588-018-0090-3</td>\n",
       "      <td>0.257960</td>\n",
       "    </tr>\n",
       "  </tbody>\n",
       "</table>\n",
       "</div>"
      ],
      "text/plain": [
       "       PMID                                              title  \\\n",
       "0  26558925  Genetic neurological channelopathies: molecula...   \n",
       "1  16642457  [Paroxysmal neurogenetic and neurometabolic di...   \n",
       "2  30356991  Neurological health and premature ovarian insu...   \n",
       "3  29930110  Analysis of shared heritability in common diso...   \n",
       "\n",
       "                                 article_url  relevance_score  \n",
       "0   https://doi.org/10.1136/Jnnp-2015-311233         0.367813  \n",
       "1          https://doi.org/10.1002/Mds.26901         0.286806  \n",
       "2      https://doi.org/10.5114/Pm.2018.78555         0.260685  \n",
       "3  https://doi.org/10.1038/S41588-018-0090-3         0.257960  "
      ]
     },
     "metadata": {},
     "output_type": "display_data"
    }
   ],
   "source": [
    "\n",
    "query = \"Neurological complications in rare genetic disorders\"\n",
    "relevant_docs, summary = search_documents(query)\n",
    "print(f\"Query: {query}\")\n",
    "print(f\"Summary:\")\n",
    "display(summary)\n",
    "print(f\"Relevant Documents:\")\n",
    "display(relevant_docs[['PMID', 'title','article_url','relevance_score']])\n"
   ]
  }
 ],
 "metadata": {
  "kernelspec": {
   "display_name": "Python 3",
   "language": "python",
   "name": "python3"
  },
  "language_info": {
   "codemirror_mode": {
    "name": "ipython",
    "version": 3
   },
   "file_extension": ".py",
   "mimetype": "text/x-python",
   "name": "python",
   "nbconvert_exporter": "python",
   "pygments_lexer": "ipython3",
   "version": "3.10.13"
  }
 },
 "nbformat": 4,
 "nbformat_minor": 2
}
